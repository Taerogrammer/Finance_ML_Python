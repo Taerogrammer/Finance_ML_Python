{
 "cells": [
  {
   "cell_type": "markdown",
   "metadata": {},
   "source": [
    "# Maximum Drawdown 계산 \n",
    "\n",
    "파이썬 프로그램을 이용하여 고점 대비 최대 손실 폭(MDD, Maximum Drawdown)을 구해 보겠습니다.  \n",
    "우선 필요한 라이브러리를  임포트 합니다. 테슬라의 주가를 이용하여 MDD를 계산해 봅니다."
   ]
  },
  {
   "cell_type": "markdown",
   "metadata": {},
   "source": [
    "## Drawdown 계산\n",
    "\n",
    "step 1. 이전 피크 계산  \n",
    "step 2. 이전 피크와 현재 값의 차이(비율)로 드로다운을 계산합니다.  "
   ]
  },
  {
   "cell_type": "markdown",
   "metadata": {},
   "source": [
    "step 1. 이전 피크 계산 - cummax() 메소드를 이용하여 계산합니다."
   ]
  },
  {
   "cell_type": "markdown",
   "metadata": {},
   "source": [
    "step 2. 이전 피크와 현재 값의 차이(비율)로 드로다운을 계산합니다.  "
   ]
  },
  {
   "cell_type": "markdown",
   "metadata": {},
   "source": [
    "최대 드로다운을 구합니다."
   ]
  },
  {
   "cell_type": "markdown",
   "metadata": {},
   "source": [
    "최대 드로다운이 발생한 일자를 구합니다."
   ]
  },
  {
   "cell_type": "markdown",
   "metadata": {},
   "source": [
    "테슬라 주식의 가격과 이전 고점 가격을 시각화 합니다."
   ]
  },
  {
   "cell_type": "markdown",
   "metadata": {},
   "source": [
    "Tesla 주식의 역사적 MDD 와 발생 시점은 다음과 같습니다."
   ]
  },
  {
   "cell_type": "markdown",
   "metadata": {},
   "source": [
    "- 코로나 쇼크 시기의 실제 주가"
   ]
  }
 ],
 "metadata": {
  "kernelspec": {
   "display_name": "Python 3 (ipykernel)",
   "language": "python",
   "name": "python3"
  },
  "language_info": {
   "codemirror_mode": {
    "name": "ipython",
    "version": 3
   },
   "file_extension": ".py",
   "mimetype": "text/x-python",
   "name": "python",
   "nbconvert_exporter": "python",
   "pygments_lexer": "ipython3",
   "version": "3.9.16"
  }
 },
 "nbformat": 4,
 "nbformat_minor": 4
}
