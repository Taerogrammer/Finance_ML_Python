{
 "cells": [
  {
   "cell_type": "markdown",
   "metadata": {},
   "source": [
    "## PCA를 통한 주식 시장 분석 \n",
    "\n",
    "### KOSPI200 종목 data 를 sklearn.decomposition 을 통해 PCA 분석\n",
    "\n",
    "PCA는 데이터의 차원 축소를 위해 사용되며, 데이터의 가장 큰 분산을 나타내는 주성분을 찾습니다. 이 방법은 고차원 데이터에서 패턴을 찾는 데 유용합니다. 이는 주식 시장에서도 유용하며, PCA를 주식 수익률에 적용하면 첫 번째 주성분이 시장 요인에 근사하게 됩니다. 이는 첫 번째 주성분이 전체 주식 시장의 변동을 가장 잘 설명하기 때문입니다."
   ]
  },
  {
   "cell_type": "markdown",
   "metadata": {},
   "source": [
    "- `{ticker: name}` dictionary  작성"
   ]
  },
  {
   "cell_type": "markdown",
   "metadata": {},
   "source": [
    "2020-01-01 ~ 2020-12-31 기간 KOSPI200 종목의 주가 정보 수집"
   ]
  },
  {
   "cell_type": "markdown",
   "metadata": {},
   "source": [
    "### null data cleansing  \n",
    "- start 일 이후 상장한 종목이 있으므로 이전 날짜는 back fill 로 채움 \n",
    "- 전체가 NaN (기간 중 상장 않은 종목)인 종목은 drop"
   ]
  },
  {
   "cell_type": "markdown",
   "metadata": {},
   "source": [
    "전체가 NaN인 종목은 drop"
   ]
  },
  {
   "cell_type": "markdown",
   "metadata": {},
   "source": [
    "## 모든 kospi200 종목의 daily Return(일일 수익률) 계산 \n",
    "\n",
    "- 주가 크기가 서로 다르므로 log 함수 적용 \n",
    "- log 를 적용했으므로 pct_change() 대신 diff() 적용"
   ]
  },
  {
   "cell_type": "markdown",
   "metadata": {},
   "source": [
    "- 누적 수익률 계산  \n",
    "- log 수익률이므로 prod() 대신 cumsum()으로 더해줌  \n",
    "- 원래의 값으로 복원하려면 np.exp() 적용"
   ]
  },
  {
   "cell_type": "markdown",
   "metadata": {},
   "source": [
    "위의 수치는 2020년  이후 KOSPI200 지수 200개 종목의 일일 수익률과 누적 수익률을 보여줍니다. 원시 데이터의 양이 상당히 많아 보일 수 있으므로 PCA를 통해 일일 수익률의 첫 번째 주성분을 계산하여 처리해 보겠습니다.\n",
    "\n",
    "아래 그림은 기본적으로 200개 주식 각각에 대한 값을 포함하는 차원 200의 벡터인 첫 번째 주성분의 값을 보여줍니다."
   ]
  },
  {
   "cell_type": "markdown",
   "metadata": {},
   "source": [
    "첫 번째 주성분은 대부분의 분산을 설명하는 입력 데이터의 선형 조합을 나타내고, 주식 수익률의 주요 동인은 전체 시장 요인이므로, 첫 번째 주성분(즉, 입력 데이터의 선형 결합)에 비례하여 현금을 할당해 주식 포트폴리오를 구성하면 KOSPI200의 수익률을 대략적으로 복제할 수 있음을 의미합니다."
   ]
  },
  {
   "cell_type": "markdown",
   "metadata": {},
   "source": [
    "portfolio의 누적 수익률"
   ]
  },
  {
   "cell_type": "markdown",
   "metadata": {},
   "source": [
    "아래 그림은 PCA 첫번째 주성분 portfolio가 KOSPI200을 거의 비슷하게 복제함을 보여줍니다."
   ]
  }
 ],
 "metadata": {
  "anaconda-cloud": {},
  "coursera": {
   "course_slug": "machine-learning-in-finance"
  },
  "kernelspec": {
   "display_name": "Python 3 (ipykernel)",
   "language": "python",
   "name": "python3"
  },
  "language_info": {
   "codemirror_mode": {
    "name": "ipython",
    "version": 3
   },
   "file_extension": ".py",
   "mimetype": "text/x-python",
   "name": "python",
   "nbconvert_exporter": "python",
   "pygments_lexer": "ipython3",
   "version": "3.9.16"
  }
 },
 "nbformat": 4,
 "nbformat_minor": 1
}
