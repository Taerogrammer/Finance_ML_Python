{
 "cells": [
  {
   "cell_type": "markdown",
   "metadata": {},
   "source": [
    "# Value At Risk (위험 가치)\n",
    "\n",
    "- 특정 포트폴리오가 일정기간 동안 보여준 변동률을 고려할 때 향후 발생할 수도 있는 최대 손실 가능 금액 (Worst Expected Loss)과 확률  \n",
    "\n",
    "### APPLE 주식의 로그 수익률 분포\n",
    "\n",
    "- histogram 으로 확인하면 normal distribution 에 매우 가깝게 나타난다.\n",
    "- Mean(mu), variance(sigma) 를 historic data 로부터 추정"
   ]
  },
  {
   "cell_type": "code",
   "execution_count": 1,
   "metadata": {},
   "outputs": [],
   "source": [
    "import numpy as np\n",
    "import pandas as pd\n",
    "import matplotlib.pyplot as plt\n",
    "from scipy.stats import norm\n",
    "import pandas_datareader as data_reader"
   ]
  },
  {
   "cell_type": "code",
   "execution_count": 2,
   "metadata": {},
   "outputs": [
    {
     "data": {
      "text/html": [
       "<div>\n",
       "<style scoped>\n",
       "    .dataframe tbody tr th:only-of-type {\n",
       "        vertical-align: middle;\n",
       "    }\n",
       "\n",
       "    .dataframe tbody tr th {\n",
       "        vertical-align: top;\n",
       "    }\n",
       "\n",
       "    .dataframe thead th {\n",
       "        text-align: right;\n",
       "    }\n",
       "</style>\n",
       "<table border=\"1\" class=\"dataframe\">\n",
       "  <thead>\n",
       "    <tr style=\"text-align: right;\">\n",
       "      <th></th>\n",
       "      <th>High</th>\n",
       "      <th>Low</th>\n",
       "      <th>Open</th>\n",
       "      <th>Close</th>\n",
       "      <th>Volume</th>\n",
       "      <th>Adj Close</th>\n",
       "    </tr>\n",
       "    <tr>\n",
       "      <th>Date</th>\n",
       "      <th></th>\n",
       "      <th></th>\n",
       "      <th></th>\n",
       "      <th></th>\n",
       "      <th></th>\n",
       "      <th></th>\n",
       "    </tr>\n",
       "  </thead>\n",
       "  <tbody>\n",
       "    <tr>\n",
       "      <th>2017-07-25</th>\n",
       "      <td>38.459999</td>\n",
       "      <td>37.950001</td>\n",
       "      <td>37.950001</td>\n",
       "      <td>38.185001</td>\n",
       "      <td>75415600.0</td>\n",
       "      <td>36.148445</td>\n",
       "    </tr>\n",
       "    <tr>\n",
       "      <th>2017-07-26</th>\n",
       "      <td>38.482498</td>\n",
       "      <td>38.264999</td>\n",
       "      <td>38.337502</td>\n",
       "      <td>38.365002</td>\n",
       "      <td>63124000.0</td>\n",
       "      <td>36.318848</td>\n",
       "    </tr>\n",
       "    <tr>\n",
       "      <th>2017-07-27</th>\n",
       "      <td>38.497501</td>\n",
       "      <td>36.825001</td>\n",
       "      <td>38.437500</td>\n",
       "      <td>37.639999</td>\n",
       "      <td>129905200.0</td>\n",
       "      <td>35.632507</td>\n",
       "    </tr>\n",
       "    <tr>\n",
       "      <th>2017-07-28</th>\n",
       "      <td>37.557499</td>\n",
       "      <td>37.297501</td>\n",
       "      <td>37.472500</td>\n",
       "      <td>37.375000</td>\n",
       "      <td>68854800.0</td>\n",
       "      <td>35.381653</td>\n",
       "    </tr>\n",
       "    <tr>\n",
       "      <th>2017-07-31</th>\n",
       "      <td>37.582500</td>\n",
       "      <td>37.032501</td>\n",
       "      <td>37.474998</td>\n",
       "      <td>37.182499</td>\n",
       "      <td>79383600.0</td>\n",
       "      <td>35.199409</td>\n",
       "    </tr>\n",
       "  </tbody>\n",
       "</table>\n",
       "</div>"
      ],
      "text/plain": [
       "                 High        Low       Open      Close       Volume  Adj Close\n",
       "Date                                                                          \n",
       "2017-07-25  38.459999  37.950001  37.950001  38.185001   75415600.0  36.148445\n",
       "2017-07-26  38.482498  38.264999  38.337502  38.365002   63124000.0  36.318848\n",
       "2017-07-27  38.497501  36.825001  38.437500  37.639999  129905200.0  35.632507\n",
       "2017-07-28  37.557499  37.297501  37.472500  37.375000   68854800.0  35.381653\n",
       "2017-07-31  37.582500  37.032501  37.474998  37.182499   79383600.0  35.199409"
      ]
     },
     "execution_count": 2,
     "metadata": {},
     "output_type": "execute_result"
    }
   ],
   "source": [
    "aapl = data_reader.DataReader(\"AAPL\", data_source=\"yahoo\")\n",
    "aapl.head()"
   ]
  },
  {
   "cell_type": "markdown",
   "metadata": {},
   "source": [
    "- 로그 수익률 계산"
   ]
  },
  {
   "cell_type": "code",
   "execution_count": 3,
   "metadata": {},
   "outputs": [
    {
     "data": {
      "text/html": [
       "<div>\n",
       "<style scoped>\n",
       "    .dataframe tbody tr th:only-of-type {\n",
       "        vertical-align: middle;\n",
       "    }\n",
       "\n",
       "    .dataframe tbody tr th {\n",
       "        vertical-align: top;\n",
       "    }\n",
       "\n",
       "    .dataframe thead th {\n",
       "        text-align: right;\n",
       "    }\n",
       "</style>\n",
       "<table border=\"1\" class=\"dataframe\">\n",
       "  <thead>\n",
       "    <tr style=\"text-align: right;\">\n",
       "      <th></th>\n",
       "      <th>High</th>\n",
       "      <th>Low</th>\n",
       "      <th>Open</th>\n",
       "      <th>Close</th>\n",
       "      <th>Volume</th>\n",
       "      <th>Adj Close</th>\n",
       "      <th>LogReturn</th>\n",
       "    </tr>\n",
       "    <tr>\n",
       "      <th>Date</th>\n",
       "      <th></th>\n",
       "      <th></th>\n",
       "      <th></th>\n",
       "      <th></th>\n",
       "      <th></th>\n",
       "      <th></th>\n",
       "      <th></th>\n",
       "    </tr>\n",
       "  </thead>\n",
       "  <tbody>\n",
       "    <tr>\n",
       "      <th>2017-07-25</th>\n",
       "      <td>38.459999</td>\n",
       "      <td>37.950001</td>\n",
       "      <td>37.950001</td>\n",
       "      <td>38.185001</td>\n",
       "      <td>75415600.0</td>\n",
       "      <td>36.148445</td>\n",
       "      <td>NaN</td>\n",
       "    </tr>\n",
       "    <tr>\n",
       "      <th>2017-07-26</th>\n",
       "      <td>38.482498</td>\n",
       "      <td>38.264999</td>\n",
       "      <td>38.337502</td>\n",
       "      <td>38.365002</td>\n",
       "      <td>63124000.0</td>\n",
       "      <td>36.318848</td>\n",
       "      <td>0.004703</td>\n",
       "    </tr>\n",
       "    <tr>\n",
       "      <th>2017-07-27</th>\n",
       "      <td>38.497501</td>\n",
       "      <td>36.825001</td>\n",
       "      <td>38.437500</td>\n",
       "      <td>37.639999</td>\n",
       "      <td>129905200.0</td>\n",
       "      <td>35.632507</td>\n",
       "      <td>-0.019078</td>\n",
       "    </tr>\n",
       "    <tr>\n",
       "      <th>2017-07-28</th>\n",
       "      <td>37.557499</td>\n",
       "      <td>37.297501</td>\n",
       "      <td>37.472500</td>\n",
       "      <td>37.375000</td>\n",
       "      <td>68854800.0</td>\n",
       "      <td>35.381653</td>\n",
       "      <td>-0.007065</td>\n",
       "    </tr>\n",
       "    <tr>\n",
       "      <th>2017-07-31</th>\n",
       "      <td>37.582500</td>\n",
       "      <td>37.032501</td>\n",
       "      <td>37.474998</td>\n",
       "      <td>37.182499</td>\n",
       "      <td>79383600.0</td>\n",
       "      <td>35.199409</td>\n",
       "      <td>-0.005164</td>\n",
       "    </tr>\n",
       "  </tbody>\n",
       "</table>\n",
       "</div>"
      ],
      "text/plain": [
       "                 High        Low       Open      Close       Volume  \\\n",
       "Date                                                                  \n",
       "2017-07-25  38.459999  37.950001  37.950001  38.185001   75415600.0   \n",
       "2017-07-26  38.482498  38.264999  38.337502  38.365002   63124000.0   \n",
       "2017-07-27  38.497501  36.825001  38.437500  37.639999  129905200.0   \n",
       "2017-07-28  37.557499  37.297501  37.472500  37.375000   68854800.0   \n",
       "2017-07-31  37.582500  37.032501  37.474998  37.182499   79383600.0   \n",
       "\n",
       "            Adj Close  LogReturn  \n",
       "Date                              \n",
       "2017-07-25  36.148445        NaN  \n",
       "2017-07-26  36.318848   0.004703  \n",
       "2017-07-27  35.632507  -0.019078  \n",
       "2017-07-28  35.381653  -0.007065  \n",
       "2017-07-31  35.199409  -0.005164  "
      ]
     },
     "execution_count": 3,
     "metadata": {},
     "output_type": "execute_result"
    }
   ],
   "source": [
    "aapl['LogReturn'] = np.log(aapl['Adj Close']) - np.log(aapl['Adj Close'].shift(1))\n",
    "aapl.head()"
   ]
  },
  {
   "cell_type": "code",
   "execution_count": 4,
   "metadata": {},
   "outputs": [
    {
     "data": {
      "text/plain": [
       "<AxesSubplot:xlabel='Date'>"
      ]
     },
     "execution_count": 4,
     "metadata": {},
     "output_type": "execute_result"
    },
    {
     "data": {
      "image/png": "[encoded data removed]",
      "text/plain": [
       "<Figure size 864x288 with 1 Axes>"
      ]
     },
     "metadata": {
      "needs_background": "light"
     },
     "output_type": "display_data"
    }
   ],
   "source": [
    "aapl['Close'].plot(figsize=(12, 4))"
   ]
  },
  {
   "cell_type": "code",
   "execution_count": 5,
   "metadata": {},
   "outputs": [
    {
     "data": {
      "text/plain": [
       "<AxesSubplot:xlabel='Date'>"
      ]
     },
     "execution_count": 5,
     "metadata": {},
     "output_type": "execute_result"
    },
    {
     "data": {
      "image/png": "[encoded data removed]",
      "text/plain": [
       "<Figure size 864x288 with 1 Axes>"
      ]
     },
     "metadata": {
      "needs_background": "light"
     },
     "output_type": "display_data"
    }
   ],
   "source": [
    "aapl['LogReturn'].plot(figsize=(12, 4))"
   ]
  },
  {
   "cell_type": "markdown",
   "metadata": {},
   "source": [
    "- 로그 수익률의 평균, 표준편차 계산  \n",
    "\n",
    "표본 표준편차의 경우 공식에서 `n – 1` (ddof=1)을 사용합니다. n을 사용하면 변동성을 일관되게 과소평가하는 편향된 추정치를 얻을 수 있기 때문입니다. 표본 표준 편차는 모집단의 실제 표준 편차보다 낮은 경향이 있습니다.  \n",
    "표본 n을 n – 1로 줄이면 표준 편차가 인위적으로 커지므로 보수적인 변동성 추정치를 얻을 수 있습니다."
   ]
  },
  {
   "cell_type": "code",
   "execution_count": 6,
   "metadata": {},
   "outputs": [
    {
     "name": "stdout",
     "output_type": "stream",
     "text": [
      "0.0011534629176475572 0.020270663179062884\n"
     ]
    }
   ],
   "source": [
    "mu = aapl['LogReturn'].mean()\n",
    "sigma = aapl['LogReturn'].std(ddof=1)  # sample - 1\n",
    "\n",
    "print(mu, sigma)"
   ]
  },
  {
   "cell_type": "markdown",
   "metadata": {},
   "source": [
    "### 수익률 분포 시각화"
   ]
  },
  {
   "cell_type": "code",
   "execution_count": 7,
   "metadata": {},
   "outputs": [
    {
     "data": {
      "image/png": "[encoded data removed]",
      "text/plain": [
       "<Figure size 432x288 with 1 Axes>"
      ]
     },
     "metadata": {
      "needs_background": "light"
     },
     "output_type": "display_data"
    }
   ],
   "source": [
    "# histogram\n",
    "aapl['LogReturn'].plot(kind='hist', bins=50, figsize=(6, 4))\n",
    "\n",
    "# 수직선으로 평균, 표준편차 표시\n",
    "plt.axvline(mu, color='w', linestyle='dashed', linewidth=4)\n",
    "plt.axvline(sigma, color='g', linestyle='dashed', linewidth=2)\n",
    "plt.axvline(-sigma, color='g', linestyle='dashed', linewidth=2)\n",
    "\n",
    "plt.grid()"
   ]
  },
  {
   "cell_type": "markdown",
   "metadata": {},
   "source": [
    "### 확률밀도함수(probability density function) 시각화\n",
    "- 확률밀도 함수의 95% 신뢰구간 시각화"
   ]
  },
  {
   "cell_type": "code",
   "execution_count": 8,
   "metadata": {},
   "outputs": [
    {
     "data": {
      "text/html": [
       "<div>\n",
       "<style scoped>\n",
       "    .dataframe tbody tr th:only-of-type {\n",
       "        vertical-align: middle;\n",
       "    }\n",
       "\n",
       "    .dataframe tbody tr th {\n",
       "        vertical-align: top;\n",
       "    }\n",
       "\n",
       "    .dataframe thead th {\n",
       "        text-align: right;\n",
       "    }\n",
       "</style>\n",
       "<table border=\"1\" class=\"dataframe\">\n",
       "  <thead>\n",
       "    <tr style=\"text-align: right;\">\n",
       "      <th></th>\n",
       "      <th>x</th>\n",
       "      <th>pdf</th>\n",
       "    </tr>\n",
       "  </thead>\n",
       "  <tbody>\n",
       "    <tr>\n",
       "      <th>0</th>\n",
       "      <td>-0.147708</td>\n",
       "      <td>3.831126e-11</td>\n",
       "    </tr>\n",
       "    <tr>\n",
       "      <th>1</th>\n",
       "      <td>-0.146708</td>\n",
       "      <td>5.497117e-11</td>\n",
       "    </tr>\n",
       "    <tr>\n",
       "      <th>2</th>\n",
       "      <td>-0.145708</td>\n",
       "      <td>7.868403e-11</td>\n",
       "    </tr>\n",
       "    <tr>\n",
       "      <th>3</th>\n",
       "      <td>-0.144708</td>\n",
       "      <td>1.123521e-10</td>\n",
       "    </tr>\n",
       "    <tr>\n",
       "      <th>4</th>\n",
       "      <td>-0.143708</td>\n",
       "      <td>1.600365e-10</td>\n",
       "    </tr>\n",
       "  </tbody>\n",
       "</table>\n",
       "</div>"
      ],
      "text/plain": [
       "          x           pdf\n",
       "0 -0.147708  3.831126e-11\n",
       "1 -0.146708  5.497117e-11\n",
       "2 -0.145708  7.868403e-11\n",
       "3 -0.144708  1.123521e-10\n",
       "4 -0.143708  1.600365e-10"
      ]
     },
     "execution_count": 8,
     "metadata": {},
     "output_type": "execute_result"
    }
   ],
   "source": [
    "denApp = pd.DataFrame()\n",
    "# pdf \n",
    "denApp['x'] = np.arange(aapl['LogReturn'].min() - 0.01, \n",
    "                                      aapl['LogReturn'].max() + 0.01, 0.001)\n",
    "denApp['pdf'] = norm.pdf(denApp['x'], mu, sigma)\n",
    "denApp.head()"
   ]
  },
  {
   "cell_type": "code",
   "execution_count": 9,
   "metadata": {},
   "outputs": [
    {
     "data": {
      "image/png": "[encoded data removed]",
      "text/plain": [
       "<Figure size 432x288 with 1 Axes>"
      ]
     },
     "metadata": {
      "needs_background": "light"
     },
     "output_type": "display_data"
    }
   ],
   "source": [
    "plt.plot(denApp['x'], denApp['pdf'], color='red')\n",
    "\n",
    "plt.grid()"
   ]
  },
  {
   "cell_type": "markdown",
   "metadata": {},
   "source": [
    "### APPL 주식이 하루에 x% 이상 하락할 확률 계산"
   ]
  },
  {
   "cell_type": "markdown",
   "metadata": {},
   "source": [
    "- 누적 분포 함수(Cumulative distribution function, cdf)는 주어진 특정 값보다 작거나 같은 확률을 나타내는 함수이다.\n",
    "- `norm.cdf` 함수 사용\n",
    "\n",
    "    ex) 하루 5% 이상 하락할 확률"
   ]
  },
  {
   "cell_type": "code",
   "execution_count": 10,
   "metadata": {},
   "outputs": [
    {
     "name": "stdout",
     "output_type": "stream",
     "text": [
      "평균이 0.001이고 표준편차가 0.020일 때 -0.05 보다 작거나 같을 확률은 0.581 % 이다.\n"
     ]
    }
   ],
   "source": [
    "prob = norm.cdf(-0.05, mu, sigma)\n",
    "print(f'평균이 {mu:.3f}이고 표준편차가 {sigma:.3f}일 때 -0.05 보다 작거나 같을 확률은 {prob * 100:.3f} % 이다.')"
   ]
  },
  {
   "cell_type": "markdown",
   "metadata": {},
   "source": [
    "- 하루에 10% 이상 하락할 확률"
   ]
  },
  {
   "cell_type": "code",
   "execution_count": 11,
   "metadata": {},
   "outputs": [
    {
     "name": "stdout",
     "output_type": "stream",
     "text": [
      "The Probability is 0.0000301677 %\n"
     ]
    }
   ],
   "source": [
    "prob = norm.cdf(-0.1, mu, sigma)\n",
    "print('The Probability is {:.10f} %'.format(prob * 100))"
   ]
  },
  {
   "cell_type": "markdown",
   "metadata": {},
   "source": [
    "확률 시각화"
   ]
  },
  {
   "cell_type": "code",
   "execution_count": 12,
   "metadata": {},
   "outputs": [
    {
     "data": {
      "text/plain": [
       "Text(0.5, 1.0, 'Probability of Apple - 5% down a day')"
      ]
     },
     "execution_count": 12,
     "metadata": {},
     "output_type": "execute_result"
    },
    {
     "data": {
      "image/png": "[encoded data removed]",
      "text/plain": [
       "<Figure size 432x288 with 1 Axes>"
      ]
     },
     "metadata": {
      "needs_background": "light"
     },
     "output_type": "display_data"
    }
   ],
   "source": [
    "iq = norm(mu, sigma)\n",
    "x = np.arange(mu-4*sigma, mu+4*sigma, 0.00001)\n",
    "\n",
    "plt.plot(x, iq.pdf(x), linewidth=3)\n",
    "plt.axvline(-0.05, ls='--')\n",
    "plt.axvline(-0.1, ls='--')\n",
    "\n",
    "xrange = np.arange(-0.15, -0.05, 0.0001)\n",
    "plt.fill_between(xrange, y1=norm.pdf(xrange, mu, sigma), y2=0, color='red')\n",
    "plt.title(\"Probability of Apple - 5% down a day\")"
   ]
  },
  {
   "cell_type": "markdown",
   "metadata": {},
   "source": [
    "### APPL 주식이 일년(220 거래일)에 xx% 이상 하락할 확률 계산\n",
    "\n",
    "- `mu`가 daily return의 평균이므로 220 거래일의 평균 return 은 $220 \\times mu $\n",
    "- `sigma`가 daily return의 표준편차이므로 220 거래일의 표준편차는 $\\sqrt{220} \\times \\sigma$"
   ]
  },
  {
   "cell_type": "markdown",
   "metadata": {},
   "source": [
    "- 1년에 40% 이상 하락할 확률"
   ]
  },
  {
   "cell_type": "code",
   "execution_count": 13,
   "metadata": {},
   "outputs": [
    {
     "name": "stdout",
     "output_type": "stream",
     "text": [
      "220거래일에 20% 이상 하락할 확률  0.06562300661247028\n",
      "220거래일에 40% 이상 하락할 확률  0.014837397892336656\n"
     ]
    }
   ],
   "source": [
    "mu220 = 220 * mu\n",
    "sigma220 = (220 ** 0.5) * sigma\n",
    "\n",
    "print('220거래일에 20% 이상 하락할 확률 ', norm.cdf(-0.2, mu220, sigma220))\n",
    "print('220거래일에 40% 이상 하락할 확률 ', norm.cdf(-0.4, mu220, sigma220))"
   ]
  },
  {
   "cell_type": "markdown",
   "metadata": {},
   "source": [
    "확률 시각화"
   ]
  },
  {
   "cell_type": "code",
   "execution_count": 14,
   "metadata": {},
   "outputs": [
    {
     "data": {
      "text/plain": [
       "Text(0.5, 1.0, 'Probability of Apple - 20% down a year')"
      ]
     },
     "execution_count": 14,
     "metadata": {},
     "output_type": "execute_result"
    },
    {
     "data": {
      "image/png": "[encoded data removed]",
      "text/plain": [
       "<Figure size 432x288 with 1 Axes>"
      ]
     },
     "metadata": {
      "needs_background": "light"
     },
     "output_type": "display_data"
    }
   ],
   "source": [
    "iq = norm(mu220, sigma220)\n",
    "x = np.arange(mu220 - 4*sigma220, mu220 + 4*sigma220, 0.00001)\n",
    "\n",
    "plt.plot(x, iq.pdf(x), linewidth=3)\n",
    "plt.axvline(-0.2, ls='--')\n",
    "plt.axvline(-0.4, ls='--')\n",
    "\n",
    "xrange = np.arange(-1.0, -0.2, 0.0001)\n",
    "plt.fill_between(xrange, y1=iq.pdf(xrange), y2=0, color='red')\n",
    "plt.title(\"Probability of Apple - 20% down a year\")"
   ]
  },
  {
   "cell_type": "markdown",
   "metadata": {},
   "source": [
    "## Value at risk (VaR) 계산\n",
    "\n",
    "- 일일 수익률의 5% 분위수(quantile)를 95% VaR 또는 95% 수준의 VaR이라고 합니다.\n",
    "\n",
    "    ex) 95% VAR (일일 수익률의 5% 분위수) $\\rightarrow$ daily return 이 VaR 보다 더 나쁠 확률이 5% 임\n",
    "    \n",
    "    \n",
    "- ppf : Percent point function (inverse of cdf / percentiles)   \n",
    "    ppf() 함수는 주어진 정규 분포 값에 대한 확률을 계산하는 반면 cdf() 함수는 주어진 확률이 필요한 값인 정규 분포 값을 계산합니다. 이러한 의미에서 이들은 서로 반대입니다.  \n",
    "    \n",
    "- VaR는 Exposure 의 크기, 변동성, 노출 기간에 의해 영향을 받습니다.  따라서, 노출이 커지거나 변동성이 커지면 VaR 값이는 커지게 되며,   \n",
    "- 최악의 상황을 정의하는 유의 수준(significance level)을 낮추면 (예를 들어, 5%를 1%로) VaR 값은 증가 합니다. "
   ]
  },
  {
   "cell_type": "code",
   "execution_count": 15,
   "metadata": {},
   "outputs": [
    {
     "name": "stdout",
     "output_type": "stream",
     "text": [
      "평균 수익률 0.00115, 변동성 0.02027 인 주식은 5.0%의 확률로 daily return 이 -0.032 보다 나쁠 수 있다. \n"
     ]
    }
   ],
   "source": [
    "significance_level = 0.05\n",
    "VaR = norm.ppf(significance_level, mu, sigma)\n",
    "print('평균 수익률 {:.5f}, 변동성 {:.5f} 인 주식은 {}%의 확률로 daily return 이 {:.3f} 보다 나쁠 수 있다. '\n",
    "          .format(mu, sigma, significance_level*100, VaR))  "
   ]
  },
  {
   "cell_type": "code",
   "execution_count": 16,
   "metadata": {},
   "outputs": [
    {
     "name": "stdout",
     "output_type": "stream",
     "text": [
      "평균 수익률 0.00115, 변동성 0.02027 인 주식의 daily return이 -0.032 보다 나쁠 확률은 0.05이다.\n"
     ]
    }
   ],
   "source": [
    "print(\"평균 수익률 {:.5f}, 변동성 {:.5f} 인 주식의 daily return이 {:.3f} 보다 나쁠 확률은 {:.2f}이다.\"\n",
    "      .format(mu, sigma, VaR, norm.cdf(VaR, mu, sigma)))"
   ]
  },
  {
   "cell_type": "code",
   "execution_count": 17,
   "metadata": {},
   "outputs": [
    {
     "name": "stdout",
     "output_type": "stream",
     "text": [
      "평균 수익률 0.00115, 변동성 0.02027 인 주식은 1.0%의 확률로 daily return 이 -0.046 보다 나쁠 수 있다. \n"
     ]
    }
   ],
   "source": [
    "significance_level = 0.01\n",
    "VaR = norm.ppf(significance_level, mu, sigma)\n",
    "print('평균 수익률 {:.5f}, 변동성 {:.5f} 인 주식은 {}%의 확률로 daily return 이 {:.3f} 보다 나쁠 수 있다. '\n",
    "          .format(mu, sigma, significance_level*100, VaR))  "
   ]
  },
  {
   "cell_type": "code",
   "execution_count": null,
   "metadata": {},
   "outputs": [],
   "source": []
  }
 ],
 "metadata": {
  "kernelspec": {
   "display_name": "Python 3 (ipykernel)",
   "language": "python",
   "name": "python3"
  },
  "language_info": {
   "codemirror_mode": {
    "name": "ipython",
    "version": 3
   },
   "file_extension": ".py",
   "mimetype": "text/x-python",
   "name": "python",
   "nbconvert_exporter": "python",
   "pygments_lexer": "ipython3",
   "version": "3.8.13"
  }
 },
 "nbformat": 4,
 "nbformat_minor": 2
}
