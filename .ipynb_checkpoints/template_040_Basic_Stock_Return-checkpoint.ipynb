{
 "cells": [
  {
   "cell_type": "markdown",
   "metadata": {},
   "source": [
    "# Basics of Returns (수익률)\n",
    "\n",
    "- 가격(Prices)의 수익률(Returns) 변환\n",
    "\n",
    "- 수익률 계산 및 수익률 시퀀스를 복리화\n",
    "\n",
    "다양한 종류의 수익률이 있습니다. 아래에 주요 수익률들을 간단하게 정의하고 비교해 봅시다:\n",
    "\n",
    "| 수익률 종류 | 정의 | 계산 방법 | 사용 상황 |\n",
    "|:------:|:------:|:-------:|:------:|\n",
    "| 단순 수익률(Simple Returns) | 한 시점에서 다음 시점까지의 수익률 | (후 시점의 가격 - 전 시점의 가격) / 전 시점의 가격 | 단기 거래, 다양한 주식들의 일일 또는 단기 수익률을 비교할 때 주로 사용 |\n",
    "| 복리 수익률(Compound Returns) | 여러 시점에 걸친 수익률로, 이전 시점의 수익이 다음 시점의 수익 계산에 영향을 미침 | (최종값 / 초기값)1/n – 1| 장기 투자에서 사용되며, 여러 기간 동안의 수익률을 계산할 때 사용 |\n",
    "| 연간 수익률(Annual Returns) | 투자 수익률을 연간 기준으로 환산한 수익률 | ((1 + 복리 수익률) ^ (1 / n년)) - 1 | 투자의 성과를 연간 기준으로 비교하거나, 다른 투자 기회와 비교할 때 사용 |\n",
    "| 누적 수익률(Cumulative Returns) | 투자의 시작부터 특정 시점까지의 전체 수익률 | 현재 자산/과거자산 - 1 | 투자의 총 성과를 평가하는 데 사용 |\n",
    "| 로그 수익률(Log Returns) | 연속 복리 수익률이라고도 하며, 단순 수익률의 로그 값을 사용 | ln(후 시점의 가격 / 전 시점의 가격) | 복리 효과를 가정하는 모델에서 사용하거나, 여러 시점의 수익률을 더할 때 사용 |\n",
    "\n",
    "이 표는 각 수익률의 기본적인 개념을 제공합니다. 실제 계산에서는 각 투자 상황에 따라 수익률 계산 방법이 달라질 수 있으므로 주의해야 합니다."
   ]
  },
  {
   "cell_type": "markdown",
   "metadata": {},
   "source": [
    "## 1. Simple Returns (단순 수익률)\n",
    "\n",
    "$t$ 시간에서 ${t+1}$ 시간까지의 Return은 다음과 같이 계산됩니다. 나중가격  / 이전가격 - 1\n",
    "\n",
    "$$ R_{t,t+1} = \\frac{P_{t+1}-P_{t}}{P_{t}} = \\frac{P_{t+1}}{P_{t}} - 1 $$\n"
   ]
  },
  {
   "cell_type": "code",
   "execution_count": 1,
   "metadata": {},
   "outputs": [],
   "source": [
    "import numpy as np\n",
    "import pandas as pd\n",
    "import matplotlib.pyplot as plt\n",
    "import FinanceDataReader as fdr"
   ]
  },
  {
   "cell_type": "markdown",
   "metadata": {},
   "source": [
    "주식 a 의 3일간의 가격 변화"
   ]
  },
  {
   "cell_type": "code",
   "execution_count": 3,
   "metadata": {},
   "outputs": [
    {
     "data": {
      "text/plain": [
       "array([8.7 , 8.91, 8.71])"
      ]
     },
     "execution_count": 3,
     "metadata": {},
     "output_type": "execute_result"
    }
   ],
   "source": [
    "prices_a = np.array([8.70, 8.91, 8.71])\n",
    "prices_a"
   ]
  },
  {
   "cell_type": "markdown",
   "metadata": {},
   "source": [
    "주식 a의 일일 수익률"
   ]
  },
  {
   "cell_type": "code",
   "execution_count": 6,
   "metadata": {},
   "outputs": [
    {
     "data": {
      "text/plain": [
       "array([ 0.02413793, -0.02244669])"
      ]
     },
     "execution_count": 6,
     "metadata": {},
     "output_type": "execute_result"
    }
   ],
   "source": [
    "(prices_a[1:] - prices_a[:-1]) / prices_a[:-1]   # (당일 가격 - 전일 가격) / 전일 가격"
   ]
  },
  {
   "cell_type": "markdown",
   "metadata": {},
   "source": [
    "이제 가격을 며칠 더 추가하고 두 번째 주식을 소개합니다. 이 두 주식을 \"BLUE\"와 \"ORANGE\"라고 부르고 Pandas DataFrame을 사용하여 다음과 같이 표시합니다."
   ]
  },
  {
   "cell_type": "code",
   "execution_count": 7,
   "metadata": {},
   "outputs": [
    {
     "data": {
      "text/html": [
       "<div>\n",
       "<style scoped>\n",
       "    .dataframe tbody tr th:only-of-type {\n",
       "        vertical-align: middle;\n",
       "    }\n",
       "\n",
       "    .dataframe tbody tr th {\n",
       "        vertical-align: top;\n",
       "    }\n",
       "\n",
       "    .dataframe thead th {\n",
       "        text-align: right;\n",
       "    }\n",
       "</style>\n",
       "<table border=\"1\" class=\"dataframe\">\n",
       "  <thead>\n",
       "    <tr style=\"text-align: right;\">\n",
       "      <th></th>\n",
       "      <th>BLUE</th>\n",
       "      <th>ORANGE</th>\n",
       "    </tr>\n",
       "  </thead>\n",
       "  <tbody>\n",
       "    <tr>\n",
       "      <th>0</th>\n",
       "      <td>8.70</td>\n",
       "      <td>10.66</td>\n",
       "    </tr>\n",
       "    <tr>\n",
       "      <th>1</th>\n",
       "      <td>8.91</td>\n",
       "      <td>11.08</td>\n",
       "    </tr>\n",
       "    <tr>\n",
       "      <th>2</th>\n",
       "      <td>8.71</td>\n",
       "      <td>10.71</td>\n",
       "    </tr>\n",
       "    <tr>\n",
       "      <th>3</th>\n",
       "      <td>8.43</td>\n",
       "      <td>11.59</td>\n",
       "    </tr>\n",
       "    <tr>\n",
       "      <th>4</th>\n",
       "      <td>8.73</td>\n",
       "      <td>12.11</td>\n",
       "    </tr>\n",
       "  </tbody>\n",
       "</table>\n",
       "</div>"
      ],
      "text/plain": [
       "   BLUE  ORANGE\n",
       "0  8.70   10.66\n",
       "1  8.91   11.08\n",
       "2  8.71   10.71\n",
       "3  8.43   11.59\n",
       "4  8.73   12.11"
      ]
     },
     "execution_count": 7,
     "metadata": {},
     "output_type": "execute_result"
    }
   ],
   "source": [
    "prices = pd.DataFrame({\"BLUE\": [8.70, 8.91, 8.71, 8.43, 8.73],\n",
    "                                    \"ORANGE\": [10.66, 11.08, 10.71, 11.59, 12.11]})\n",
    "prices"
   ]
  },
  {
   "cell_type": "code",
   "execution_count": 8,
   "metadata": {},
   "outputs": [
    {
     "data": {
      "text/html": [
       "<div>\n",
       "<style scoped>\n",
       "    .dataframe tbody tr th:only-of-type {\n",
       "        vertical-align: middle;\n",
       "    }\n",
       "\n",
       "    .dataframe tbody tr th {\n",
       "        vertical-align: top;\n",
       "    }\n",
       "\n",
       "    .dataframe thead th {\n",
       "        text-align: right;\n",
       "    }\n",
       "</style>\n",
       "<table border=\"1\" class=\"dataframe\">\n",
       "  <thead>\n",
       "    <tr style=\"text-align: right;\">\n",
       "      <th></th>\n",
       "      <th>BLUE</th>\n",
       "      <th>ORANGE</th>\n",
       "    </tr>\n",
       "  </thead>\n",
       "  <tbody>\n",
       "    <tr>\n",
       "      <th>1</th>\n",
       "      <td>0.024138</td>\n",
       "      <td>0.039400</td>\n",
       "    </tr>\n",
       "    <tr>\n",
       "      <th>2</th>\n",
       "      <td>-0.022447</td>\n",
       "      <td>-0.033394</td>\n",
       "    </tr>\n",
       "    <tr>\n",
       "      <th>3</th>\n",
       "      <td>-0.032147</td>\n",
       "      <td>0.082166</td>\n",
       "    </tr>\n",
       "    <tr>\n",
       "      <th>4</th>\n",
       "      <td>0.035587</td>\n",
       "      <td>0.044866</td>\n",
       "    </tr>\n",
       "  </tbody>\n",
       "</table>\n",
       "</div>"
      ],
      "text/plain": [
       "       BLUE    ORANGE\n",
       "1  0.024138  0.039400\n",
       "2 -0.022447 -0.033394\n",
       "3 -0.032147  0.082166\n",
       "4  0.035587  0.044866"
      ]
     },
     "execution_count": 8,
     "metadata": {},
     "output_type": "execute_result"
    }
   ],
   "source": [
    "prices.iloc[1:] / prices.iloc[:-1].values - 1"
   ]
  },
  {
   "cell_type": "markdown",
   "metadata": {},
   "source": [
    "- 일일 수익률 계산 \n",
    "$$ R_{t,t+1} = \\frac{P_{t+1}-P_{t}}{P_{t}} = \\frac{P_{t+1}}{P_{t}} - 1 $$"
   ]
  },
  {
   "cell_type": "markdown",
   "metadata": {},
   "source": [
    "위와 동일한 결과를  `.shift()` 메서드를 이용하여 쉽게 구할 수 있습니다.   "
   ]
  },
  {
   "cell_type": "code",
   "execution_count": 9,
   "metadata": {},
   "outputs": [
    {
     "data": {
      "text/html": [
       "<div>\n",
       "<style scoped>\n",
       "    .dataframe tbody tr th:only-of-type {\n",
       "        vertical-align: middle;\n",
       "    }\n",
       "\n",
       "    .dataframe tbody tr th {\n",
       "        vertical-align: top;\n",
       "    }\n",
       "\n",
       "    .dataframe thead th {\n",
       "        text-align: right;\n",
       "    }\n",
       "</style>\n",
       "<table border=\"1\" class=\"dataframe\">\n",
       "  <thead>\n",
       "    <tr style=\"text-align: right;\">\n",
       "      <th></th>\n",
       "      <th>BLUE</th>\n",
       "      <th>ORANGE</th>\n",
       "    </tr>\n",
       "  </thead>\n",
       "  <tbody>\n",
       "    <tr>\n",
       "      <th>0</th>\n",
       "      <td>NaN</td>\n",
       "      <td>NaN</td>\n",
       "    </tr>\n",
       "    <tr>\n",
       "      <th>1</th>\n",
       "      <td>0.024138</td>\n",
       "      <td>0.039400</td>\n",
       "    </tr>\n",
       "    <tr>\n",
       "      <th>2</th>\n",
       "      <td>-0.022447</td>\n",
       "      <td>-0.033394</td>\n",
       "    </tr>\n",
       "    <tr>\n",
       "      <th>3</th>\n",
       "      <td>-0.032147</td>\n",
       "      <td>0.082166</td>\n",
       "    </tr>\n",
       "    <tr>\n",
       "      <th>4</th>\n",
       "      <td>0.035587</td>\n",
       "      <td>0.044866</td>\n",
       "    </tr>\n",
       "  </tbody>\n",
       "</table>\n",
       "</div>"
      ],
      "text/plain": [
       "       BLUE    ORANGE\n",
       "0       NaN       NaN\n",
       "1  0.024138  0.039400\n",
       "2 -0.022447 -0.033394\n",
       "3 -0.032147  0.082166\n",
       "4  0.035587  0.044866"
      ]
     },
     "execution_count": 9,
     "metadata": {},
     "output_type": "execute_result"
    }
   ],
   "source": [
    "returns = prices / prices.shift(1) - 1\n",
    "returns"
   ]
  },
  {
   "cell_type": "markdown",
   "metadata": {},
   "source": [
    "- 전날의 종가가 없기 때문에 첫날의 수익을 계산할 수 없다는 점에 유의 \n",
    "\n",
    "- 일반적으로 가격에서 수익으로 이동할 때 하나의 데이터 포인트를 잃음\n",
    "\n",
    "- DataFrame에는 한 행에서 다른 행으로의 백분율 변경을 계산하는 기본 제공 메서드가 있습니다. 이 방법을 사용하여 수익률을 위의 방법보다 더 쉽게 계산할 수 있습니다."
   ]
  },
  {
   "cell_type": "code",
   "execution_count": 10,
   "metadata": {},
   "outputs": [
    {
     "data": {
      "text/html": [
       "<div>\n",
       "<style scoped>\n",
       "    .dataframe tbody tr th:only-of-type {\n",
       "        vertical-align: middle;\n",
       "    }\n",
       "\n",
       "    .dataframe tbody tr th {\n",
       "        vertical-align: top;\n",
       "    }\n",
       "\n",
       "    .dataframe thead th {\n",
       "        text-align: right;\n",
       "    }\n",
       "</style>\n",
       "<table border=\"1\" class=\"dataframe\">\n",
       "  <thead>\n",
       "    <tr style=\"text-align: right;\">\n",
       "      <th></th>\n",
       "      <th>BLUE</th>\n",
       "      <th>ORANGE</th>\n",
       "    </tr>\n",
       "  </thead>\n",
       "  <tbody>\n",
       "    <tr>\n",
       "      <th>0</th>\n",
       "      <td>NaN</td>\n",
       "      <td>NaN</td>\n",
       "    </tr>\n",
       "    <tr>\n",
       "      <th>1</th>\n",
       "      <td>0.024138</td>\n",
       "      <td>0.039400</td>\n",
       "    </tr>\n",
       "    <tr>\n",
       "      <th>2</th>\n",
       "      <td>-0.022447</td>\n",
       "      <td>-0.033394</td>\n",
       "    </tr>\n",
       "    <tr>\n",
       "      <th>3</th>\n",
       "      <td>-0.032147</td>\n",
       "      <td>0.082166</td>\n",
       "    </tr>\n",
       "    <tr>\n",
       "      <th>4</th>\n",
       "      <td>0.035587</td>\n",
       "      <td>0.044866</td>\n",
       "    </tr>\n",
       "  </tbody>\n",
       "</table>\n",
       "</div>"
      ],
      "text/plain": [
       "       BLUE    ORANGE\n",
       "0       NaN       NaN\n",
       "1  0.024138  0.039400\n",
       "2 -0.022447 -0.033394\n",
       "3 -0.032147  0.082166\n",
       "4  0.035587  0.044866"
      ]
     },
     "execution_count": 10,
     "metadata": {},
     "output_type": "execute_result"
    }
   ],
   "source": [
    "returns = prices.pct_change()\n",
    "returns"
   ]
  },
  {
   "cell_type": "markdown",
   "metadata": {},
   "source": [
    "### 수익률 평균, 표준편차\n",
    "- 12 개월 가격"
   ]
  },
  {
   "cell_type": "code",
   "execution_count": 11,
   "metadata": {},
   "outputs": [
    {
     "data": {
      "text/html": [
       "<div>\n",
       "<style scoped>\n",
       "    .dataframe tbody tr th:only-of-type {\n",
       "        vertical-align: middle;\n",
       "    }\n",
       "\n",
       "    .dataframe tbody tr th {\n",
       "        vertical-align: top;\n",
       "    }\n",
       "\n",
       "    .dataframe thead th {\n",
       "        text-align: right;\n",
       "    }\n",
       "</style>\n",
       "<table border=\"1\" class=\"dataframe\">\n",
       "  <thead>\n",
       "    <tr style=\"text-align: right;\">\n",
       "      <th></th>\n",
       "      <th>BLUE</th>\n",
       "      <th>ORANGE</th>\n",
       "    </tr>\n",
       "  </thead>\n",
       "  <tbody>\n",
       "    <tr>\n",
       "      <th>0</th>\n",
       "      <td>8.7000</td>\n",
       "      <td>10.6600</td>\n",
       "    </tr>\n",
       "    <tr>\n",
       "      <th>1</th>\n",
       "      <td>8.9055</td>\n",
       "      <td>11.0828</td>\n",
       "    </tr>\n",
       "    <tr>\n",
       "      <th>2</th>\n",
       "      <td>8.7113</td>\n",
       "      <td>10.7100</td>\n",
       "    </tr>\n",
       "    <tr>\n",
       "      <th>3</th>\n",
       "      <td>8.4346</td>\n",
       "      <td>11.5907</td>\n",
       "    </tr>\n",
       "    <tr>\n",
       "      <th>4</th>\n",
       "      <td>8.7254</td>\n",
       "      <td>12.1070</td>\n",
       "    </tr>\n",
       "    <tr>\n",
       "      <th>5</th>\n",
       "      <td>9.0551</td>\n",
       "      <td>11.7876</td>\n",
       "    </tr>\n",
       "    <tr>\n",
       "      <th>6</th>\n",
       "      <td>8.9514</td>\n",
       "      <td>11.2078</td>\n",
       "    </tr>\n",
       "    <tr>\n",
       "      <th>7</th>\n",
       "      <td>9.2439</td>\n",
       "      <td>12.5192</td>\n",
       "    </tr>\n",
       "    <tr>\n",
       "      <th>8</th>\n",
       "      <td>9.1276</td>\n",
       "      <td>13.3624</td>\n",
       "    </tr>\n",
       "    <tr>\n",
       "      <th>9</th>\n",
       "      <td>9.3976</td>\n",
       "      <td>14.4080</td>\n",
       "    </tr>\n",
       "    <tr>\n",
       "      <th>10</th>\n",
       "      <td>9.4554</td>\n",
       "      <td>11.9837</td>\n",
       "    </tr>\n",
       "    <tr>\n",
       "      <th>11</th>\n",
       "      <td>9.5704</td>\n",
       "      <td>12.2718</td>\n",
       "    </tr>\n",
       "    <tr>\n",
       "      <th>12</th>\n",
       "      <td>9.7728</td>\n",
       "      <td>11.5892</td>\n",
       "    </tr>\n",
       "  </tbody>\n",
       "</table>\n",
       "</div>"
      ],
      "text/plain": [
       "      BLUE   ORANGE\n",
       "0   8.7000  10.6600\n",
       "1   8.9055  11.0828\n",
       "2   8.7113  10.7100\n",
       "3   8.4346  11.5907\n",
       "4   8.7254  12.1070\n",
       "5   9.0551  11.7876\n",
       "6   8.9514  11.2078\n",
       "7   9.2439  12.5192\n",
       "8   9.1276  13.3624\n",
       "9   9.3976  14.4080\n",
       "10  9.4554  11.9837\n",
       "11  9.5704  12.2718\n",
       "12  9.7728  11.5892"
      ]
     },
     "execution_count": 11,
     "metadata": {},
     "output_type": "execute_result"
    }
   ],
   "source": [
    "prices = pd.read_csv('data/sample_prices.csv')\n",
    "prices"
   ]
  },
  {
   "cell_type": "markdown",
   "metadata": {},
   "source": [
    "- 월별 수익률"
   ]
  },
  {
   "cell_type": "code",
   "execution_count": 12,
   "metadata": {},
   "outputs": [],
   "source": [
    "returns = prices.pct_change()"
   ]
  },
  {
   "cell_type": "markdown",
   "metadata": {},
   "source": [
    "- 평균 수익률"
   ]
  },
  {
   "cell_type": "code",
   "execution_count": 13,
   "metadata": {},
   "outputs": [
    {
     "data": {
      "text/plain": [
       "BLUE      0.01\n",
       "ORANGE    0.01\n",
       "dtype: float64"
      ]
     },
     "execution_count": 13,
     "metadata": {},
     "output_type": "execute_result"
    }
   ],
   "source": [
    "returns.mean()"
   ]
  },
  {
   "cell_type": "markdown",
   "metadata": {},
   "source": [
    "- 수익률 표준 편차"
   ]
  },
  {
   "cell_type": "code",
   "execution_count": 14,
   "metadata": {},
   "outputs": [
    {
     "data": {
      "text/plain": [
       "BLUE      0.023977\n",
       "ORANGE    0.079601\n",
       "dtype: float64"
      ]
     },
     "execution_count": 14,
     "metadata": {},
     "output_type": "execute_result"
    }
   ],
   "source": [
    "returns.std()"
   ]
  },
  {
   "cell_type": "markdown",
   "metadata": {},
   "source": [
    "- 12 개월 수익률 변화 시각화  \n",
    "- 평균 수익률은 같으나 변동성이 크게 다르므로, 평균 수익률 (average return)은 주식 평가의 좋은 지표가 아님."
   ]
  },
  {
   "cell_type": "code",
   "execution_count": 17,
   "metadata": {},
   "outputs": [
    {
     "data": {
      "text/plain": [
       "<Axes: >"
      ]
     },
     "execution_count": 17,
     "metadata": {},
     "output_type": "execute_result"
    },
    {
     "data": {
      "image/png": "[encoded data removed]",
      "text/plain": [
       "<Figure size 640x480 with 1 Axes>"
      ]
     },
     "metadata": {},
     "output_type": "display_data"
    }
   ],
   "source": [
    "returns.plot()"
   ]
  },
  {
   "cell_type": "code",
   "execution_count": 16,
   "metadata": {},
   "outputs": [
    {
     "data": {
      "text/plain": [
       "<Axes: >"
      ]
     },
     "execution_count": 16,
     "metadata": {},
     "output_type": "execute_result"
    },
    {
     "data": {
      "image/png": "[encoded data removed]",
      "text/plain": [
       "<Figure size 640x480 with 1 Axes>"
      ]
     },
     "metadata": {},
     "output_type": "display_data"
    }
   ],
   "source": [
    "returns.plot.bar()   # bar 차트"
   ]
  },
  {
   "cell_type": "markdown",
   "metadata": {},
   "source": [
    "## 2. Compounding Returns (복리 수익률)\n",
    "\n",
    "- 이제 일련의 12개월 수익률이 있으므로 수익률이 `1+R` 형식이라고 부르는 성장률(Growth Rate)로 표현되는 한 개별 기간 수익률을 곱하여 복리 수익률을 산출할 수 있습니다.\n",
    "\n",
    "- CAGR(Compound Annual Growth Rate, 연평균 성장률, 연복리 수익률) 계산 공식  \n",
    "\n",
    "    방법 1. 매(일, 월)별 수익률로 계산\n",
    "        - 복리 수익률은 각 수익률에 1을 더한 다음 모두 곱하기만 하면 됩니다. 결과는 1+R 형식이므로 1을 빼야 합니다.  \n",
    "        \n",
    "        \n",
    "    방법 2.  시초 가격과 최종 가격, 투자 기간으로 계산\n",
    "    \n",
    "$$CAGR = \\left(\\frac{현재자산}{과거자산}\\right)^{\\frac{1}{투자기간연수}} - 1$$\n",
    "\n",
    "$$CAGR = ( 1 + 누적수익률 ) ^ \\frac{1}{투자기간연수}- 1$$\n",
    "\n",
    "\n",
    "\n",
    "두 시리즈의 복리 수익률을 계산해 보겠습니다."
   ]
  },
  {
   "cell_type": "markdown",
   "metadata": {},
   "source": [
    "매월의 수익률"
   ]
  },
  {
   "cell_type": "code",
   "execution_count": 18,
   "metadata": {},
   "outputs": [
    {
     "data": {
      "text/html": [
       "<div>\n",
       "<style scoped>\n",
       "    .dataframe tbody tr th:only-of-type {\n",
       "        vertical-align: middle;\n",
       "    }\n",
       "\n",
       "    .dataframe tbody tr th {\n",
       "        vertical-align: top;\n",
       "    }\n",
       "\n",
       "    .dataframe thead th {\n",
       "        text-align: right;\n",
       "    }\n",
       "</style>\n",
       "<table border=\"1\" class=\"dataframe\">\n",
       "  <thead>\n",
       "    <tr style=\"text-align: right;\">\n",
       "      <th></th>\n",
       "      <th>BLUE</th>\n",
       "      <th>ORANGE</th>\n",
       "    </tr>\n",
       "  </thead>\n",
       "  <tbody>\n",
       "    <tr>\n",
       "      <th>0</th>\n",
       "      <td>NaN</td>\n",
       "      <td>NaN</td>\n",
       "    </tr>\n",
       "    <tr>\n",
       "      <th>1</th>\n",
       "      <td>1.023621</td>\n",
       "      <td>1.039662</td>\n",
       "    </tr>\n",
       "    <tr>\n",
       "      <th>2</th>\n",
       "      <td>0.978193</td>\n",
       "      <td>0.966362</td>\n",
       "    </tr>\n",
       "    <tr>\n",
       "      <th>3</th>\n",
       "      <td>0.968237</td>\n",
       "      <td>1.082232</td>\n",
       "    </tr>\n",
       "    <tr>\n",
       "      <th>4</th>\n",
       "      <td>1.034477</td>\n",
       "      <td>1.044544</td>\n",
       "    </tr>\n",
       "    <tr>\n",
       "      <th>5</th>\n",
       "      <td>1.037786</td>\n",
       "      <td>0.973619</td>\n",
       "    </tr>\n",
       "    <tr>\n",
       "      <th>6</th>\n",
       "      <td>0.988548</td>\n",
       "      <td>0.950813</td>\n",
       "    </tr>\n",
       "    <tr>\n",
       "      <th>7</th>\n",
       "      <td>1.032676</td>\n",
       "      <td>1.117008</td>\n",
       "    </tr>\n",
       "    <tr>\n",
       "      <th>8</th>\n",
       "      <td>0.987419</td>\n",
       "      <td>1.067353</td>\n",
       "    </tr>\n",
       "    <tr>\n",
       "      <th>9</th>\n",
       "      <td>1.029581</td>\n",
       "      <td>1.078249</td>\n",
       "    </tr>\n",
       "    <tr>\n",
       "      <th>10</th>\n",
       "      <td>1.006151</td>\n",
       "      <td>0.831739</td>\n",
       "    </tr>\n",
       "    <tr>\n",
       "      <th>11</th>\n",
       "      <td>1.012162</td>\n",
       "      <td>1.024041</td>\n",
       "    </tr>\n",
       "    <tr>\n",
       "      <th>12</th>\n",
       "      <td>1.021149</td>\n",
       "      <td>0.944377</td>\n",
       "    </tr>\n",
       "  </tbody>\n",
       "</table>\n",
       "</div>"
      ],
      "text/plain": [
       "        BLUE    ORANGE\n",
       "0        NaN       NaN\n",
       "1   1.023621  1.039662\n",
       "2   0.978193  0.966362\n",
       "3   0.968237  1.082232\n",
       "4   1.034477  1.044544\n",
       "5   1.037786  0.973619\n",
       "6   0.988548  0.950813\n",
       "7   1.032676  1.117008\n",
       "8   0.987419  1.067353\n",
       "9   1.029581  1.078249\n",
       "10  1.006151  0.831739\n",
       "11  1.012162  1.024041\n",
       "12  1.021149  0.944377"
      ]
     },
     "execution_count": 18,
     "metadata": {},
     "output_type": "execute_result"
    }
   ],
   "source": [
    "returns + 1"
   ]
  },
  {
   "cell_type": "markdown",
   "metadata": {},
   "source": [
    "방법 1로 복리 수익률 계산"
   ]
  },
  {
   "cell_type": "code",
   "execution_count": 19,
   "metadata": {},
   "outputs": [
    {
     "data": {
      "text/plain": [
       "BLUE      0.123310\n",
       "ORANGE    0.087167\n",
       "dtype: float64"
      ]
     },
     "execution_count": 19,
     "metadata": {},
     "output_type": "execute_result"
    }
   ],
   "source": [
    "(1 + returns).prod() - 1"
   ]
  },
  {
   "cell_type": "markdown",
   "metadata": {},
   "source": [
    "위 경우,  평균 수익률은 동일하나 복리 수익률은 차이가 많이 납니다.\n",
    "\n",
    "방법 2로 복리 수익률 계산"
   ]
  },
  {
   "cell_type": "code",
   "execution_count": 23,
   "metadata": {},
   "outputs": [
    {
     "data": {
      "text/plain": [
       "0.1233103448275863"
      ]
     },
     "execution_count": 23,
     "metadata": {},
     "output_type": "execute_result"
    }
   ],
   "source": [
    "(prices['BLUE'].values[-1] / prices['BLUE'].values[0]) - 1"
   ]
  },
  {
   "cell_type": "code",
   "execution_count": 24,
   "metadata": {},
   "outputs": [
    {
     "data": {
      "text/plain": [
       "0.08716697936210127"
      ]
     },
     "execution_count": 24,
     "metadata": {},
     "output_type": "execute_result"
    }
   ],
   "source": [
    "(prices['ORANGE'].values[-1] / prices['ORANGE'].values[0]) - 1"
   ]
  },
  {
   "cell_type": "markdown",
   "metadata": {},
   "source": [
    "두 방법의 결과가 동일함을 확인"
   ]
  },
  {
   "cell_type": "markdown",
   "metadata": {},
   "source": [
    "## 3. Annualizing Returns (연간 수익률)\n",
    "\n",
    "일정 기간 동안의 수익률을 연간으로 계산하려면 1년의 기간만큼 수익률을 복리화합니다. \n",
    "\n",
    "월별 수익 $R_m$을 연간으로 환산하는 공식은 다음과 같습니다.\n",
    "\n",
    "$$ (1+R_m)^{12} - 1$$\n",
    "\n",
    "분기별 수익 $R_q$를 연간으로 환산하면 다음을 얻을 수 있습니다.\n",
    "\n",
    "$$ (1+R_q)^{4} - 1$$\n",
    "\n",
    "마지막으로 일일 수익 $R_d$를 연간으로 환산하면 다음을 얻을 수 있습니다.\n",
    "\n",
    "$$ (1+R_d)^{252} - 1$$\n",
    "\n",
    "예를 들어, 월별 1%, 분기별 4% 및 일일 수익률 0.01%를 연간화하려면 다음을 수행합니다."
   ]
  },
  {
   "cell_type": "code",
   "execution_count": 25,
   "metadata": {},
   "outputs": [
    {
     "data": {
      "text/plain": [
       "0.12682503013196977"
      ]
     },
     "execution_count": 25,
     "metadata": {},
     "output_type": "execute_result"
    }
   ],
   "source": [
    "rm = 0.01  #월별 1%\n",
    "\n",
    "(1+rm)**12 - 1  #월별 수익률을 연간으로 환산"
   ]
  },
  {
   "cell_type": "code",
   "execution_count": 26,
   "metadata": {},
   "outputs": [
    {
     "data": {
      "text/plain": [
       "0.1698585600000002"
      ]
     },
     "execution_count": 26,
     "metadata": {},
     "output_type": "execute_result"
    }
   ],
   "source": [
    "rq = 0.04  #분기별 수익률\n",
    "(1+rq)**4 - 1   #분기별 수익률을 연간으로 환산"
   ]
  },
  {
   "cell_type": "markdown",
   "metadata": {},
   "source": [
    "### 주식 수익률 (Return) 계산"
   ]
  },
  {
   "cell_type": "code",
   "execution_count": 27,
   "metadata": {},
   "outputs": [
    {
     "data": {
      "text/html": [
       "<div>\n",
       "<style scoped>\n",
       "    .dataframe tbody tr th:only-of-type {\n",
       "        vertical-align: middle;\n",
       "    }\n",
       "\n",
       "    .dataframe tbody tr th {\n",
       "        vertical-align: top;\n",
       "    }\n",
       "\n",
       "    .dataframe thead th {\n",
       "        text-align: right;\n",
       "    }\n",
       "</style>\n",
       "<table border=\"1\" class=\"dataframe\">\n",
       "  <thead>\n",
       "    <tr style=\"text-align: right;\">\n",
       "      <th></th>\n",
       "      <th>Close</th>\n",
       "    </tr>\n",
       "    <tr>\n",
       "      <th>Date</th>\n",
       "      <th></th>\n",
       "    </tr>\n",
       "  </thead>\n",
       "  <tbody>\n",
       "    <tr>\n",
       "      <th>2022-06-02</th>\n",
       "      <td>151.210007</td>\n",
       "    </tr>\n",
       "    <tr>\n",
       "      <th>2022-06-03</th>\n",
       "      <td>145.380005</td>\n",
       "    </tr>\n",
       "    <tr>\n",
       "      <th>2022-06-06</th>\n",
       "      <td>146.139999</td>\n",
       "    </tr>\n",
       "    <tr>\n",
       "      <th>2022-06-07</th>\n",
       "      <td>148.710007</td>\n",
       "    </tr>\n",
       "    <tr>\n",
       "      <th>2022-06-08</th>\n",
       "      <td>147.960007</td>\n",
       "    </tr>\n",
       "    <tr>\n",
       "      <th>2022-06-09</th>\n",
       "      <td>142.639999</td>\n",
       "    </tr>\n",
       "    <tr>\n",
       "      <th>2022-06-10</th>\n",
       "      <td>137.130005</td>\n",
       "    </tr>\n",
       "    <tr>\n",
       "      <th>2022-06-13</th>\n",
       "      <td>131.880005</td>\n",
       "    </tr>\n",
       "    <tr>\n",
       "      <th>2022-06-14</th>\n",
       "      <td>132.759995</td>\n",
       "    </tr>\n",
       "    <tr>\n",
       "      <th>2022-06-15</th>\n",
       "      <td>135.429993</td>\n",
       "    </tr>\n",
       "    <tr>\n",
       "      <th>2022-06-16</th>\n",
       "      <td>130.059998</td>\n",
       "    </tr>\n",
       "    <tr>\n",
       "      <th>2022-06-17</th>\n",
       "      <td>131.559998</td>\n",
       "    </tr>\n",
       "    <tr>\n",
       "      <th>2022-06-21</th>\n",
       "      <td>135.869995</td>\n",
       "    </tr>\n",
       "    <tr>\n",
       "      <th>2022-06-22</th>\n",
       "      <td>135.350006</td>\n",
       "    </tr>\n",
       "    <tr>\n",
       "      <th>2022-06-23</th>\n",
       "      <td>138.270004</td>\n",
       "    </tr>\n",
       "    <tr>\n",
       "      <th>2022-06-24</th>\n",
       "      <td>141.660004</td>\n",
       "    </tr>\n",
       "    <tr>\n",
       "      <th>2022-06-27</th>\n",
       "      <td>141.660004</td>\n",
       "    </tr>\n",
       "    <tr>\n",
       "      <th>2022-06-28</th>\n",
       "      <td>137.440002</td>\n",
       "    </tr>\n",
       "    <tr>\n",
       "      <th>2022-06-29</th>\n",
       "      <td>139.229996</td>\n",
       "    </tr>\n",
       "  </tbody>\n",
       "</table>\n",
       "</div>"
      ],
      "text/plain": [
       "                 Close\n",
       "Date                  \n",
       "2022-06-02  151.210007\n",
       "2022-06-03  145.380005\n",
       "2022-06-06  146.139999\n",
       "2022-06-07  148.710007\n",
       "2022-06-08  147.960007\n",
       "2022-06-09  142.639999\n",
       "2022-06-10  137.130005\n",
       "2022-06-13  131.880005\n",
       "2022-06-14  132.759995\n",
       "2022-06-15  135.429993\n",
       "2022-06-16  130.059998\n",
       "2022-06-17  131.559998\n",
       "2022-06-21  135.869995\n",
       "2022-06-22  135.350006\n",
       "2022-06-23  138.270004\n",
       "2022-06-24  141.660004\n",
       "2022-06-27  141.660004\n",
       "2022-06-28  137.440002\n",
       "2022-06-29  139.229996"
      ]
     },
     "execution_count": 27,
     "metadata": {},
     "output_type": "execute_result"
    }
   ],
   "source": [
    "df = fdr.DataReader(\"AAPL\",  start=\"2022-06-02\", end=\"2022-06-30\")\n",
    "df.drop([\"High\", \"Low\", \"Open\", \"Volume\", \"Adj Close\"], axis=1, inplace=True)\n",
    "df"
   ]
  },
  {
   "cell_type": "markdown",
   "metadata": {},
   "source": [
    "### simple return 계산"
   ]
  },
  {
   "cell_type": "code",
   "execution_count": 28,
   "metadata": {},
   "outputs": [
    {
     "data": {
      "text/html": [
       "<div>\n",
       "<style scoped>\n",
       "    .dataframe tbody tr th:only-of-type {\n",
       "        vertical-align: middle;\n",
       "    }\n",
       "\n",
       "    .dataframe tbody tr th {\n",
       "        vertical-align: top;\n",
       "    }\n",
       "\n",
       "    .dataframe thead th {\n",
       "        text-align: right;\n",
       "    }\n",
       "</style>\n",
       "<table border=\"1\" class=\"dataframe\">\n",
       "  <thead>\n",
       "    <tr style=\"text-align: right;\">\n",
       "      <th></th>\n",
       "      <th>Close</th>\n",
       "      <th>return</th>\n",
       "    </tr>\n",
       "    <tr>\n",
       "      <th>Date</th>\n",
       "      <th></th>\n",
       "      <th></th>\n",
       "    </tr>\n",
       "  </thead>\n",
       "  <tbody>\n",
       "    <tr>\n",
       "      <th>2022-06-02</th>\n",
       "      <td>151.210007</td>\n",
       "      <td>NaN</td>\n",
       "    </tr>\n",
       "    <tr>\n",
       "      <th>2022-06-03</th>\n",
       "      <td>145.380005</td>\n",
       "      <td>-0.038556</td>\n",
       "    </tr>\n",
       "    <tr>\n",
       "      <th>2022-06-06</th>\n",
       "      <td>146.139999</td>\n",
       "      <td>0.005228</td>\n",
       "    </tr>\n",
       "    <tr>\n",
       "      <th>2022-06-07</th>\n",
       "      <td>148.710007</td>\n",
       "      <td>0.017586</td>\n",
       "    </tr>\n",
       "    <tr>\n",
       "      <th>2022-06-08</th>\n",
       "      <td>147.960007</td>\n",
       "      <td>-0.005043</td>\n",
       "    </tr>\n",
       "  </tbody>\n",
       "</table>\n",
       "</div>"
      ],
      "text/plain": [
       "                 Close    return\n",
       "Date                            \n",
       "2022-06-02  151.210007       NaN\n",
       "2022-06-03  145.380005 -0.038556\n",
       "2022-06-06  146.139999  0.005228\n",
       "2022-06-07  148.710007  0.017586\n",
       "2022-06-08  147.960007 -0.005043"
      ]
     },
     "execution_count": 28,
     "metadata": {},
     "output_type": "execute_result"
    }
   ],
   "source": [
    "df['return'] = df['Close'].pct_change()\n",
    "df.head()"
   ]
  },
  {
   "cell_type": "markdown",
   "metadata": {},
   "source": [
    "### 누적 수익률 (Cumulative Return)\n",
    "방법 1 : 매일(달)의 수익률로 계산  \n",
    "누적 수익률 = (1+당일 수익률) * (전일자 누적 수익률)  \n",
    "$$i_t = (1 + r_t) * i_{t-1}$$\n",
    "\n",
    "방법 2: 처음, 마지막 가격으로 계산  \n",
    "누적 수익률 = $\\left( \\frac{현재가격}{과거가격} \\right) - 1$"
   ]
  },
  {
   "cell_type": "markdown",
   "metadata": {},
   "source": [
    "- 누적 수익률은 단순 덧셈이 아닌 곱셉으로 계산  \n",
    " \n",
    "ex) 10000원이었던 주식이 첫째 달에 10% 상승하고 둘째 달에 20% 상승하게 된다면 누적 수익률은 30%가 아닌, 32%\n",
    "\n",
    "|기존|10,000원|0%|\n",
    "|-----|----|----|\n",
    "|첫째달|11,000원|10%상승|\n",
    "|둘째달|13,200원|20%상승|\n",
    "|누적수익률| |32%상승| \n",
    "\n",
    "$$(1+0.2)*(1+0.1)-1$$"
   ]
  },
  {
   "cell_type": "markdown",
   "metadata": {},
   "source": [
    "방법 1 :  (1+당일 수익률) * (전일자 누적 수익률)"
   ]
  },
  {
   "cell_type": "code",
   "execution_count": 29,
   "metadata": {},
   "outputs": [
    {
     "data": {
      "text/plain": [
       "0.32000000000000006"
      ]
     },
     "execution_count": 29,
     "metadata": {},
     "output_type": "execute_result"
    }
   ],
   "source": [
    "(1 + 0.2) * (1 + 0.1) - 1"
   ]
  },
  {
   "cell_type": "markdown",
   "metadata": {},
   "source": [
    "방법 2: (현재가격/과거가격) - 1"
   ]
  },
  {
   "cell_type": "code",
   "execution_count": 30,
   "metadata": {},
   "outputs": [
    {
     "data": {
      "text/plain": [
       "0.32000000000000006"
      ]
     },
     "execution_count": 30,
     "metadata": {},
     "output_type": "execute_result"
    }
   ],
   "source": [
    "(13200 / 10000) - 1"
   ]
  },
  {
   "cell_type": "markdown",
   "metadata": {},
   "source": [
    "주식의 daily 누적 수익률"
   ]
  },
  {
   "cell_type": "code",
   "execution_count": 33,
   "metadata": {},
   "outputs": [
    {
     "data": {
      "text/html": [
       "<div>\n",
       "<style scoped>\n",
       "    .dataframe tbody tr th:only-of-type {\n",
       "        vertical-align: middle;\n",
       "    }\n",
       "\n",
       "    .dataframe tbody tr th {\n",
       "        vertical-align: top;\n",
       "    }\n",
       "\n",
       "    .dataframe thead th {\n",
       "        text-align: right;\n",
       "    }\n",
       "</style>\n",
       "<table border=\"1\" class=\"dataframe\">\n",
       "  <thead>\n",
       "    <tr style=\"text-align: right;\">\n",
       "      <th></th>\n",
       "      <th>Close</th>\n",
       "      <th>return</th>\n",
       "      <th>Cum Return</th>\n",
       "    </tr>\n",
       "    <tr>\n",
       "      <th>Date</th>\n",
       "      <th></th>\n",
       "      <th></th>\n",
       "      <th></th>\n",
       "    </tr>\n",
       "  </thead>\n",
       "  <tbody>\n",
       "    <tr>\n",
       "      <th>2022-06-02</th>\n",
       "      <td>151.210007</td>\n",
       "      <td>NaN</td>\n",
       "      <td>NaN</td>\n",
       "    </tr>\n",
       "    <tr>\n",
       "      <th>2022-06-03</th>\n",
       "      <td>145.380005</td>\n",
       "      <td>-0.038556</td>\n",
       "      <td>-0.038556</td>\n",
       "    </tr>\n",
       "    <tr>\n",
       "      <th>2022-06-06</th>\n",
       "      <td>146.139999</td>\n",
       "      <td>0.005228</td>\n",
       "      <td>-0.033530</td>\n",
       "    </tr>\n",
       "    <tr>\n",
       "      <th>2022-06-07</th>\n",
       "      <td>148.710007</td>\n",
       "      <td>0.017586</td>\n",
       "      <td>-0.016533</td>\n",
       "    </tr>\n",
       "    <tr>\n",
       "      <th>2022-06-08</th>\n",
       "      <td>147.960007</td>\n",
       "      <td>-0.005043</td>\n",
       "      <td>-0.021493</td>\n",
       "    </tr>\n",
       "    <tr>\n",
       "      <th>2022-06-09</th>\n",
       "      <td>142.639999</td>\n",
       "      <td>-0.035956</td>\n",
       "      <td>-0.056676</td>\n",
       "    </tr>\n",
       "    <tr>\n",
       "      <th>2022-06-10</th>\n",
       "      <td>137.130005</td>\n",
       "      <td>-0.038629</td>\n",
       "      <td>-0.093116</td>\n",
       "    </tr>\n",
       "    <tr>\n",
       "      <th>2022-06-13</th>\n",
       "      <td>131.880005</td>\n",
       "      <td>-0.038285</td>\n",
       "      <td>-0.127835</td>\n",
       "    </tr>\n",
       "    <tr>\n",
       "      <th>2022-06-14</th>\n",
       "      <td>132.759995</td>\n",
       "      <td>0.006673</td>\n",
       "      <td>-0.122016</td>\n",
       "    </tr>\n",
       "    <tr>\n",
       "      <th>2022-06-15</th>\n",
       "      <td>135.429993</td>\n",
       "      <td>0.020111</td>\n",
       "      <td>-0.104358</td>\n",
       "    </tr>\n",
       "    <tr>\n",
       "      <th>2022-06-16</th>\n",
       "      <td>130.059998</td>\n",
       "      <td>-0.039651</td>\n",
       "      <td>-0.139872</td>\n",
       "    </tr>\n",
       "    <tr>\n",
       "      <th>2022-06-17</th>\n",
       "      <td>131.559998</td>\n",
       "      <td>0.011533</td>\n",
       "      <td>-0.129952</td>\n",
       "    </tr>\n",
       "    <tr>\n",
       "      <th>2022-06-21</th>\n",
       "      <td>135.869995</td>\n",
       "      <td>0.032761</td>\n",
       "      <td>-0.101448</td>\n",
       "    </tr>\n",
       "    <tr>\n",
       "      <th>2022-06-22</th>\n",
       "      <td>135.350006</td>\n",
       "      <td>-0.003827</td>\n",
       "      <td>-0.104887</td>\n",
       "    </tr>\n",
       "    <tr>\n",
       "      <th>2022-06-23</th>\n",
       "      <td>138.270004</td>\n",
       "      <td>0.021574</td>\n",
       "      <td>-0.085576</td>\n",
       "    </tr>\n",
       "    <tr>\n",
       "      <th>2022-06-24</th>\n",
       "      <td>141.660004</td>\n",
       "      <td>0.024517</td>\n",
       "      <td>-0.063157</td>\n",
       "    </tr>\n",
       "    <tr>\n",
       "      <th>2022-06-27</th>\n",
       "      <td>141.660004</td>\n",
       "      <td>0.000000</td>\n",
       "      <td>-0.063157</td>\n",
       "    </tr>\n",
       "    <tr>\n",
       "      <th>2022-06-28</th>\n",
       "      <td>137.440002</td>\n",
       "      <td>-0.029790</td>\n",
       "      <td>-0.091065</td>\n",
       "    </tr>\n",
       "    <tr>\n",
       "      <th>2022-06-29</th>\n",
       "      <td>139.229996</td>\n",
       "      <td>0.013024</td>\n",
       "      <td>-0.079228</td>\n",
       "    </tr>\n",
       "  </tbody>\n",
       "</table>\n",
       "</div>"
      ],
      "text/plain": [
       "                 Close    return  Cum Return\n",
       "Date                                        \n",
       "2022-06-02  151.210007       NaN         NaN\n",
       "2022-06-03  145.380005 -0.038556   -0.038556\n",
       "2022-06-06  146.139999  0.005228   -0.033530\n",
       "2022-06-07  148.710007  0.017586   -0.016533\n",
       "2022-06-08  147.960007 -0.005043   -0.021493\n",
       "2022-06-09  142.639999 -0.035956   -0.056676\n",
       "2022-06-10  137.130005 -0.038629   -0.093116\n",
       "2022-06-13  131.880005 -0.038285   -0.127835\n",
       "2022-06-14  132.759995  0.006673   -0.122016\n",
       "2022-06-15  135.429993  0.020111   -0.104358\n",
       "2022-06-16  130.059998 -0.039651   -0.139872\n",
       "2022-06-17  131.559998  0.011533   -0.129952\n",
       "2022-06-21  135.869995  0.032761   -0.101448\n",
       "2022-06-22  135.350006 -0.003827   -0.104887\n",
       "2022-06-23  138.270004  0.021574   -0.085576\n",
       "2022-06-24  141.660004  0.024517   -0.063157\n",
       "2022-06-27  141.660004  0.000000   -0.063157\n",
       "2022-06-28  137.440002 -0.029790   -0.091065\n",
       "2022-06-29  139.229996  0.013024   -0.079228"
      ]
     },
     "execution_count": 33,
     "metadata": {},
     "output_type": "execute_result"
    }
   ],
   "source": [
    "df['Cum Return'] = (1 + df['return']).cumprod() - 1\n",
    "df"
   ]
  },
  {
   "cell_type": "code",
   "execution_count": 34,
   "metadata": {},
   "outputs": [
    {
     "data": {
      "text/plain": [
       "-0.0792276333933375"
      ]
     },
     "execution_count": 34,
     "metadata": {},
     "output_type": "execute_result"
    }
   ],
   "source": [
    "df['Close'][-1] / df['Close'][0] - 1"
   ]
  },
  {
   "cell_type": "markdown",
   "metadata": {},
   "source": [
    "## 5. Log Returns (로그 수익률)\n",
    "\n",
    "$$Log 수익률 = log⁡(나중가격/이전가격)  = log(나중가격) – log(이전가격)$$\n",
    "\n",
    "$$R_t = \\log{(P_{t+1}/P_t)} = \\log{P_{t+1}} - \\log{P_t}$$"
   ]
  },
  {
   "cell_type": "markdown",
   "metadata": {},
   "source": [
    "- 자산 가격의 변화 : 100 $\\rightarrow$ 130 $\\rightarrow$ 100"
   ]
  },
  {
   "cell_type": "code",
   "execution_count": 36,
   "metadata": {},
   "outputs": [
    {
     "data": {
      "text/plain": [
       "0.0692307692307692"
      ]
     },
     "execution_count": 36,
     "metadata": {},
     "output_type": "execute_result"
    }
   ],
   "source": [
    "(130 - 100) / 100 + (100 - 130) / 130\n",
    "# 수익을 냈다는 착시 현상 발생"
   ]
  },
  {
   "cell_type": "markdown",
   "metadata": {},
   "source": [
    "- 일별 로그 수익률"
   ]
  },
  {
   "cell_type": "code",
   "execution_count": 38,
   "metadata": {},
   "outputs": [
    {
     "data": {
      "text/plain": [
       "0.0"
      ]
     },
     "execution_count": 38,
     "metadata": {},
     "output_type": "execute_result"
    }
   ],
   "source": [
    "np.log(130) - np.log(100) + np.log(100) - np.log(130)"
   ]
  },
  {
   "cell_type": "code",
   "execution_count": 40,
   "metadata": {},
   "outputs": [],
   "source": [
    "df['prev_Close'] = df['Close'].shift(1)"
   ]
  },
  {
   "cell_type": "code",
   "execution_count": 42,
   "metadata": {},
   "outputs": [
    {
     "data": {
      "text/html": [
       "<div>\n",
       "<style scoped>\n",
       "    .dataframe tbody tr th:only-of-type {\n",
       "        vertical-align: middle;\n",
       "    }\n",
       "\n",
       "    .dataframe tbody tr th {\n",
       "        vertical-align: top;\n",
       "    }\n",
       "\n",
       "    .dataframe thead th {\n",
       "        text-align: right;\n",
       "    }\n",
       "</style>\n",
       "<table border=\"1\" class=\"dataframe\">\n",
       "  <thead>\n",
       "    <tr style=\"text-align: right;\">\n",
       "      <th></th>\n",
       "      <th>Close</th>\n",
       "      <th>return</th>\n",
       "      <th>Cum Return</th>\n",
       "      <th>prev_Close</th>\n",
       "      <th>Log Return</th>\n",
       "    </tr>\n",
       "    <tr>\n",
       "      <th>Date</th>\n",
       "      <th></th>\n",
       "      <th></th>\n",
       "      <th></th>\n",
       "      <th></th>\n",
       "      <th></th>\n",
       "    </tr>\n",
       "  </thead>\n",
       "  <tbody>\n",
       "    <tr>\n",
       "      <th>2022-06-02</th>\n",
       "      <td>151.210007</td>\n",
       "      <td>NaN</td>\n",
       "      <td>NaN</td>\n",
       "      <td>NaN</td>\n",
       "      <td>NaN</td>\n",
       "    </tr>\n",
       "    <tr>\n",
       "      <th>2022-06-03</th>\n",
       "      <td>145.380005</td>\n",
       "      <td>-0.038556</td>\n",
       "      <td>-0.038556</td>\n",
       "      <td>151.210007</td>\n",
       "      <td>-0.039319</td>\n",
       "    </tr>\n",
       "    <tr>\n",
       "      <th>2022-06-06</th>\n",
       "      <td>146.139999</td>\n",
       "      <td>0.005228</td>\n",
       "      <td>-0.033530</td>\n",
       "      <td>145.380005</td>\n",
       "      <td>0.005214</td>\n",
       "    </tr>\n",
       "    <tr>\n",
       "      <th>2022-06-07</th>\n",
       "      <td>148.710007</td>\n",
       "      <td>0.017586</td>\n",
       "      <td>-0.016533</td>\n",
       "      <td>146.139999</td>\n",
       "      <td>0.017433</td>\n",
       "    </tr>\n",
       "    <tr>\n",
       "      <th>2022-06-08</th>\n",
       "      <td>147.960007</td>\n",
       "      <td>-0.005043</td>\n",
       "      <td>-0.021493</td>\n",
       "      <td>148.710007</td>\n",
       "      <td>-0.005056</td>\n",
       "    </tr>\n",
       "    <tr>\n",
       "      <th>2022-06-09</th>\n",
       "      <td>142.639999</td>\n",
       "      <td>-0.035956</td>\n",
       "      <td>-0.056676</td>\n",
       "      <td>147.960007</td>\n",
       "      <td>-0.036618</td>\n",
       "    </tr>\n",
       "    <tr>\n",
       "      <th>2022-06-10</th>\n",
       "      <td>137.130005</td>\n",
       "      <td>-0.038629</td>\n",
       "      <td>-0.093116</td>\n",
       "      <td>142.639999</td>\n",
       "      <td>-0.039395</td>\n",
       "    </tr>\n",
       "    <tr>\n",
       "      <th>2022-06-13</th>\n",
       "      <td>131.880005</td>\n",
       "      <td>-0.038285</td>\n",
       "      <td>-0.127835</td>\n",
       "      <td>137.130005</td>\n",
       "      <td>-0.039037</td>\n",
       "    </tr>\n",
       "    <tr>\n",
       "      <th>2022-06-14</th>\n",
       "      <td>132.759995</td>\n",
       "      <td>0.006673</td>\n",
       "      <td>-0.122016</td>\n",
       "      <td>131.880005</td>\n",
       "      <td>0.006650</td>\n",
       "    </tr>\n",
       "    <tr>\n",
       "      <th>2022-06-15</th>\n",
       "      <td>135.429993</td>\n",
       "      <td>0.020111</td>\n",
       "      <td>-0.104358</td>\n",
       "      <td>132.759995</td>\n",
       "      <td>0.019912</td>\n",
       "    </tr>\n",
       "    <tr>\n",
       "      <th>2022-06-16</th>\n",
       "      <td>130.059998</td>\n",
       "      <td>-0.039651</td>\n",
       "      <td>-0.139872</td>\n",
       "      <td>135.429993</td>\n",
       "      <td>-0.040459</td>\n",
       "    </tr>\n",
       "    <tr>\n",
       "      <th>2022-06-17</th>\n",
       "      <td>131.559998</td>\n",
       "      <td>0.011533</td>\n",
       "      <td>-0.129952</td>\n",
       "      <td>130.059998</td>\n",
       "      <td>0.011467</td>\n",
       "    </tr>\n",
       "    <tr>\n",
       "      <th>2022-06-21</th>\n",
       "      <td>135.869995</td>\n",
       "      <td>0.032761</td>\n",
       "      <td>-0.101448</td>\n",
       "      <td>131.559998</td>\n",
       "      <td>0.032236</td>\n",
       "    </tr>\n",
       "    <tr>\n",
       "      <th>2022-06-22</th>\n",
       "      <td>135.350006</td>\n",
       "      <td>-0.003827</td>\n",
       "      <td>-0.104887</td>\n",
       "      <td>135.869995</td>\n",
       "      <td>-0.003834</td>\n",
       "    </tr>\n",
       "    <tr>\n",
       "      <th>2022-06-23</th>\n",
       "      <td>138.270004</td>\n",
       "      <td>0.021574</td>\n",
       "      <td>-0.085576</td>\n",
       "      <td>135.350006</td>\n",
       "      <td>0.021344</td>\n",
       "    </tr>\n",
       "    <tr>\n",
       "      <th>2022-06-24</th>\n",
       "      <td>141.660004</td>\n",
       "      <td>0.024517</td>\n",
       "      <td>-0.063157</td>\n",
       "      <td>138.270004</td>\n",
       "      <td>0.024222</td>\n",
       "    </tr>\n",
       "    <tr>\n",
       "      <th>2022-06-27</th>\n",
       "      <td>141.660004</td>\n",
       "      <td>0.000000</td>\n",
       "      <td>-0.063157</td>\n",
       "      <td>141.660004</td>\n",
       "      <td>0.000000</td>\n",
       "    </tr>\n",
       "    <tr>\n",
       "      <th>2022-06-28</th>\n",
       "      <td>137.440002</td>\n",
       "      <td>-0.029790</td>\n",
       "      <td>-0.091065</td>\n",
       "      <td>141.660004</td>\n",
       "      <td>-0.030242</td>\n",
       "    </tr>\n",
       "    <tr>\n",
       "      <th>2022-06-29</th>\n",
       "      <td>139.229996</td>\n",
       "      <td>0.013024</td>\n",
       "      <td>-0.079228</td>\n",
       "      <td>137.440002</td>\n",
       "      <td>0.012940</td>\n",
       "    </tr>\n",
       "  </tbody>\n",
       "</table>\n",
       "</div>"
      ],
      "text/plain": [
       "                 Close    return  Cum Return  prev_Close  Log Return\n",
       "Date                                                                \n",
       "2022-06-02  151.210007       NaN         NaN         NaN         NaN\n",
       "2022-06-03  145.380005 -0.038556   -0.038556  151.210007   -0.039319\n",
       "2022-06-06  146.139999  0.005228   -0.033530  145.380005    0.005214\n",
       "2022-06-07  148.710007  0.017586   -0.016533  146.139999    0.017433\n",
       "2022-06-08  147.960007 -0.005043   -0.021493  148.710007   -0.005056\n",
       "2022-06-09  142.639999 -0.035956   -0.056676  147.960007   -0.036618\n",
       "2022-06-10  137.130005 -0.038629   -0.093116  142.639999   -0.039395\n",
       "2022-06-13  131.880005 -0.038285   -0.127835  137.130005   -0.039037\n",
       "2022-06-14  132.759995  0.006673   -0.122016  131.880005    0.006650\n",
       "2022-06-15  135.429993  0.020111   -0.104358  132.759995    0.019912\n",
       "2022-06-16  130.059998 -0.039651   -0.139872  135.429993   -0.040459\n",
       "2022-06-17  131.559998  0.011533   -0.129952  130.059998    0.011467\n",
       "2022-06-21  135.869995  0.032761   -0.101448  131.559998    0.032236\n",
       "2022-06-22  135.350006 -0.003827   -0.104887  135.869995   -0.003834\n",
       "2022-06-23  138.270004  0.021574   -0.085576  135.350006    0.021344\n",
       "2022-06-24  141.660004  0.024517   -0.063157  138.270004    0.024222\n",
       "2022-06-27  141.660004  0.000000   -0.063157  141.660004    0.000000\n",
       "2022-06-28  137.440002 -0.029790   -0.091065  141.660004   -0.030242\n",
       "2022-06-29  139.229996  0.013024   -0.079228  137.440002    0.012940"
      ]
     },
     "execution_count": 42,
     "metadata": {},
     "output_type": "execute_result"
    }
   ],
   "source": [
    "df['Log Return'] = np.log(df['Close']) - np.log(df['prev_Close'])\n",
    "df"
   ]
  },
  {
   "cell_type": "code",
   "execution_count": 43,
   "metadata": {},
   "outputs": [
    {
     "data": {
      "text/html": [
       "<div>\n",
       "<style scoped>\n",
       "    .dataframe tbody tr th:only-of-type {\n",
       "        vertical-align: middle;\n",
       "    }\n",
       "\n",
       "    .dataframe tbody tr th {\n",
       "        vertical-align: top;\n",
       "    }\n",
       "\n",
       "    .dataframe thead th {\n",
       "        text-align: right;\n",
       "    }\n",
       "</style>\n",
       "<table border=\"1\" class=\"dataframe\">\n",
       "  <thead>\n",
       "    <tr style=\"text-align: right;\">\n",
       "      <th></th>\n",
       "      <th>Close</th>\n",
       "      <th>return</th>\n",
       "      <th>Cum Return</th>\n",
       "      <th>prev_Close</th>\n",
       "      <th>Log Return</th>\n",
       "      <th>LogReturn2</th>\n",
       "    </tr>\n",
       "    <tr>\n",
       "      <th>Date</th>\n",
       "      <th></th>\n",
       "      <th></th>\n",
       "      <th></th>\n",
       "      <th></th>\n",
       "      <th></th>\n",
       "      <th></th>\n",
       "    </tr>\n",
       "  </thead>\n",
       "  <tbody>\n",
       "    <tr>\n",
       "      <th>2022-06-02</th>\n",
       "      <td>151.210007</td>\n",
       "      <td>NaN</td>\n",
       "      <td>NaN</td>\n",
       "      <td>NaN</td>\n",
       "      <td>NaN</td>\n",
       "      <td>NaN</td>\n",
       "    </tr>\n",
       "    <tr>\n",
       "      <th>2022-06-03</th>\n",
       "      <td>145.380005</td>\n",
       "      <td>-0.038556</td>\n",
       "      <td>-0.038556</td>\n",
       "      <td>151.210007</td>\n",
       "      <td>-0.039319</td>\n",
       "      <td>-0.039319</td>\n",
       "    </tr>\n",
       "    <tr>\n",
       "      <th>2022-06-06</th>\n",
       "      <td>146.139999</td>\n",
       "      <td>0.005228</td>\n",
       "      <td>-0.033530</td>\n",
       "      <td>145.380005</td>\n",
       "      <td>0.005214</td>\n",
       "      <td>0.005214</td>\n",
       "    </tr>\n",
       "    <tr>\n",
       "      <th>2022-06-07</th>\n",
       "      <td>148.710007</td>\n",
       "      <td>0.017586</td>\n",
       "      <td>-0.016533</td>\n",
       "      <td>146.139999</td>\n",
       "      <td>0.017433</td>\n",
       "      <td>0.017433</td>\n",
       "    </tr>\n",
       "    <tr>\n",
       "      <th>2022-06-08</th>\n",
       "      <td>147.960007</td>\n",
       "      <td>-0.005043</td>\n",
       "      <td>-0.021493</td>\n",
       "      <td>148.710007</td>\n",
       "      <td>-0.005056</td>\n",
       "      <td>-0.005056</td>\n",
       "    </tr>\n",
       "    <tr>\n",
       "      <th>2022-06-09</th>\n",
       "      <td>142.639999</td>\n",
       "      <td>-0.035956</td>\n",
       "      <td>-0.056676</td>\n",
       "      <td>147.960007</td>\n",
       "      <td>-0.036618</td>\n",
       "      <td>-0.036618</td>\n",
       "    </tr>\n",
       "    <tr>\n",
       "      <th>2022-06-10</th>\n",
       "      <td>137.130005</td>\n",
       "      <td>-0.038629</td>\n",
       "      <td>-0.093116</td>\n",
       "      <td>142.639999</td>\n",
       "      <td>-0.039395</td>\n",
       "      <td>-0.039395</td>\n",
       "    </tr>\n",
       "    <tr>\n",
       "      <th>2022-06-13</th>\n",
       "      <td>131.880005</td>\n",
       "      <td>-0.038285</td>\n",
       "      <td>-0.127835</td>\n",
       "      <td>137.130005</td>\n",
       "      <td>-0.039037</td>\n",
       "      <td>-0.039037</td>\n",
       "    </tr>\n",
       "    <tr>\n",
       "      <th>2022-06-14</th>\n",
       "      <td>132.759995</td>\n",
       "      <td>0.006673</td>\n",
       "      <td>-0.122016</td>\n",
       "      <td>131.880005</td>\n",
       "      <td>0.006650</td>\n",
       "      <td>0.006650</td>\n",
       "    </tr>\n",
       "    <tr>\n",
       "      <th>2022-06-15</th>\n",
       "      <td>135.429993</td>\n",
       "      <td>0.020111</td>\n",
       "      <td>-0.104358</td>\n",
       "      <td>132.759995</td>\n",
       "      <td>0.019912</td>\n",
       "      <td>0.019912</td>\n",
       "    </tr>\n",
       "    <tr>\n",
       "      <th>2022-06-16</th>\n",
       "      <td>130.059998</td>\n",
       "      <td>-0.039651</td>\n",
       "      <td>-0.139872</td>\n",
       "      <td>135.429993</td>\n",
       "      <td>-0.040459</td>\n",
       "      <td>-0.040459</td>\n",
       "    </tr>\n",
       "    <tr>\n",
       "      <th>2022-06-17</th>\n",
       "      <td>131.559998</td>\n",
       "      <td>0.011533</td>\n",
       "      <td>-0.129952</td>\n",
       "      <td>130.059998</td>\n",
       "      <td>0.011467</td>\n",
       "      <td>0.011467</td>\n",
       "    </tr>\n",
       "    <tr>\n",
       "      <th>2022-06-21</th>\n",
       "      <td>135.869995</td>\n",
       "      <td>0.032761</td>\n",
       "      <td>-0.101448</td>\n",
       "      <td>131.559998</td>\n",
       "      <td>0.032236</td>\n",
       "      <td>0.032236</td>\n",
       "    </tr>\n",
       "    <tr>\n",
       "      <th>2022-06-22</th>\n",
       "      <td>135.350006</td>\n",
       "      <td>-0.003827</td>\n",
       "      <td>-0.104887</td>\n",
       "      <td>135.869995</td>\n",
       "      <td>-0.003834</td>\n",
       "      <td>-0.003834</td>\n",
       "    </tr>\n",
       "    <tr>\n",
       "      <th>2022-06-23</th>\n",
       "      <td>138.270004</td>\n",
       "      <td>0.021574</td>\n",
       "      <td>-0.085576</td>\n",
       "      <td>135.350006</td>\n",
       "      <td>0.021344</td>\n",
       "      <td>0.021344</td>\n",
       "    </tr>\n",
       "    <tr>\n",
       "      <th>2022-06-24</th>\n",
       "      <td>141.660004</td>\n",
       "      <td>0.024517</td>\n",
       "      <td>-0.063157</td>\n",
       "      <td>138.270004</td>\n",
       "      <td>0.024222</td>\n",
       "      <td>0.024222</td>\n",
       "    </tr>\n",
       "    <tr>\n",
       "      <th>2022-06-27</th>\n",
       "      <td>141.660004</td>\n",
       "      <td>0.000000</td>\n",
       "      <td>-0.063157</td>\n",
       "      <td>141.660004</td>\n",
       "      <td>0.000000</td>\n",
       "      <td>0.000000</td>\n",
       "    </tr>\n",
       "    <tr>\n",
       "      <th>2022-06-28</th>\n",
       "      <td>137.440002</td>\n",
       "      <td>-0.029790</td>\n",
       "      <td>-0.091065</td>\n",
       "      <td>141.660004</td>\n",
       "      <td>-0.030242</td>\n",
       "      <td>-0.030242</td>\n",
       "    </tr>\n",
       "    <tr>\n",
       "      <th>2022-06-29</th>\n",
       "      <td>139.229996</td>\n",
       "      <td>0.013024</td>\n",
       "      <td>-0.079228</td>\n",
       "      <td>137.440002</td>\n",
       "      <td>0.012940</td>\n",
       "      <td>0.012940</td>\n",
       "    </tr>\n",
       "  </tbody>\n",
       "</table>\n",
       "</div>"
      ],
      "text/plain": [
       "                 Close    return  Cum Return  prev_Close  Log Return  \\\n",
       "Date                                                                   \n",
       "2022-06-02  151.210007       NaN         NaN         NaN         NaN   \n",
       "2022-06-03  145.380005 -0.038556   -0.038556  151.210007   -0.039319   \n",
       "2022-06-06  146.139999  0.005228   -0.033530  145.380005    0.005214   \n",
       "2022-06-07  148.710007  0.017586   -0.016533  146.139999    0.017433   \n",
       "2022-06-08  147.960007 -0.005043   -0.021493  148.710007   -0.005056   \n",
       "2022-06-09  142.639999 -0.035956   -0.056676  147.960007   -0.036618   \n",
       "2022-06-10  137.130005 -0.038629   -0.093116  142.639999   -0.039395   \n",
       "2022-06-13  131.880005 -0.038285   -0.127835  137.130005   -0.039037   \n",
       "2022-06-14  132.759995  0.006673   -0.122016  131.880005    0.006650   \n",
       "2022-06-15  135.429993  0.020111   -0.104358  132.759995    0.019912   \n",
       "2022-06-16  130.059998 -0.039651   -0.139872  135.429993   -0.040459   \n",
       "2022-06-17  131.559998  0.011533   -0.129952  130.059998    0.011467   \n",
       "2022-06-21  135.869995  0.032761   -0.101448  131.559998    0.032236   \n",
       "2022-06-22  135.350006 -0.003827   -0.104887  135.869995   -0.003834   \n",
       "2022-06-23  138.270004  0.021574   -0.085576  135.350006    0.021344   \n",
       "2022-06-24  141.660004  0.024517   -0.063157  138.270004    0.024222   \n",
       "2022-06-27  141.660004  0.000000   -0.063157  141.660004    0.000000   \n",
       "2022-06-28  137.440002 -0.029790   -0.091065  141.660004   -0.030242   \n",
       "2022-06-29  139.229996  0.013024   -0.079228  137.440002    0.012940   \n",
       "\n",
       "            LogReturn2  \n",
       "Date                    \n",
       "2022-06-02         NaN  \n",
       "2022-06-03   -0.039319  \n",
       "2022-06-06    0.005214  \n",
       "2022-06-07    0.017433  \n",
       "2022-06-08   -0.005056  \n",
       "2022-06-09   -0.036618  \n",
       "2022-06-10   -0.039395  \n",
       "2022-06-13   -0.039037  \n",
       "2022-06-14    0.006650  \n",
       "2022-06-15    0.019912  \n",
       "2022-06-16   -0.040459  \n",
       "2022-06-17    0.011467  \n",
       "2022-06-21    0.032236  \n",
       "2022-06-22   -0.003834  \n",
       "2022-06-23    0.021344  \n",
       "2022-06-24    0.024222  \n",
       "2022-06-27    0.000000  \n",
       "2022-06-28   -0.030242  \n",
       "2022-06-29    0.012940  "
      ]
     },
     "execution_count": 43,
     "metadata": {},
     "output_type": "execute_result"
    }
   ],
   "source": [
    "df['LogReturn2'] = np.log(df['Close']) - np.log(df['Close'].shift(1))\n",
    "df"
   ]
  },
  {
   "cell_type": "markdown",
   "metadata": {},
   "source": [
    "### 누적 로그 수익률\n",
    "- 로그 수익률은 cumsum() 사용  \n",
    "- 단순히 daily return 을 더하면 기간 전체의 복리로 계산된 누적 수익률이 계산됨"
   ]
  },
  {
   "cell_type": "code",
   "execution_count": 45,
   "metadata": {},
   "outputs": [
    {
     "data": {
      "text/html": [
       "<div>\n",
       "<style scoped>\n",
       "    .dataframe tbody tr th:only-of-type {\n",
       "        vertical-align: middle;\n",
       "    }\n",
       "\n",
       "    .dataframe tbody tr th {\n",
       "        vertical-align: top;\n",
       "    }\n",
       "\n",
       "    .dataframe thead th {\n",
       "        text-align: right;\n",
       "    }\n",
       "</style>\n",
       "<table border=\"1\" class=\"dataframe\">\n",
       "  <thead>\n",
       "    <tr style=\"text-align: right;\">\n",
       "      <th></th>\n",
       "      <th>Close</th>\n",
       "      <th>return</th>\n",
       "      <th>Cum Return</th>\n",
       "      <th>prev_Close</th>\n",
       "      <th>Log Return</th>\n",
       "      <th>LogReturn2</th>\n",
       "      <th>Cum logReturn</th>\n",
       "    </tr>\n",
       "    <tr>\n",
       "      <th>Date</th>\n",
       "      <th></th>\n",
       "      <th></th>\n",
       "      <th></th>\n",
       "      <th></th>\n",
       "      <th></th>\n",
       "      <th></th>\n",
       "      <th></th>\n",
       "    </tr>\n",
       "  </thead>\n",
       "  <tbody>\n",
       "    <tr>\n",
       "      <th>2022-06-02</th>\n",
       "      <td>151.210007</td>\n",
       "      <td>NaN</td>\n",
       "      <td>NaN</td>\n",
       "      <td>NaN</td>\n",
       "      <td>NaN</td>\n",
       "      <td>NaN</td>\n",
       "      <td>NaN</td>\n",
       "    </tr>\n",
       "    <tr>\n",
       "      <th>2022-06-03</th>\n",
       "      <td>145.380005</td>\n",
       "      <td>-0.038556</td>\n",
       "      <td>-0.038556</td>\n",
       "      <td>151.210007</td>\n",
       "      <td>-0.039319</td>\n",
       "      <td>-0.039319</td>\n",
       "      <td>-0.039319</td>\n",
       "    </tr>\n",
       "    <tr>\n",
       "      <th>2022-06-06</th>\n",
       "      <td>146.139999</td>\n",
       "      <td>0.005228</td>\n",
       "      <td>-0.033530</td>\n",
       "      <td>145.380005</td>\n",
       "      <td>0.005214</td>\n",
       "      <td>0.005214</td>\n",
       "      <td>-0.034105</td>\n",
       "    </tr>\n",
       "    <tr>\n",
       "      <th>2022-06-07</th>\n",
       "      <td>148.710007</td>\n",
       "      <td>0.017586</td>\n",
       "      <td>-0.016533</td>\n",
       "      <td>146.139999</td>\n",
       "      <td>0.017433</td>\n",
       "      <td>0.017433</td>\n",
       "      <td>-0.016671</td>\n",
       "    </tr>\n",
       "    <tr>\n",
       "      <th>2022-06-08</th>\n",
       "      <td>147.960007</td>\n",
       "      <td>-0.005043</td>\n",
       "      <td>-0.021493</td>\n",
       "      <td>148.710007</td>\n",
       "      <td>-0.005056</td>\n",
       "      <td>-0.005056</td>\n",
       "      <td>-0.021728</td>\n",
       "    </tr>\n",
       "    <tr>\n",
       "      <th>2022-06-09</th>\n",
       "      <td>142.639999</td>\n",
       "      <td>-0.035956</td>\n",
       "      <td>-0.056676</td>\n",
       "      <td>147.960007</td>\n",
       "      <td>-0.036618</td>\n",
       "      <td>-0.036618</td>\n",
       "      <td>-0.058346</td>\n",
       "    </tr>\n",
       "    <tr>\n",
       "      <th>2022-06-10</th>\n",
       "      <td>137.130005</td>\n",
       "      <td>-0.038629</td>\n",
       "      <td>-0.093116</td>\n",
       "      <td>142.639999</td>\n",
       "      <td>-0.039395</td>\n",
       "      <td>-0.039395</td>\n",
       "      <td>-0.097740</td>\n",
       "    </tr>\n",
       "    <tr>\n",
       "      <th>2022-06-13</th>\n",
       "      <td>131.880005</td>\n",
       "      <td>-0.038285</td>\n",
       "      <td>-0.127835</td>\n",
       "      <td>137.130005</td>\n",
       "      <td>-0.039037</td>\n",
       "      <td>-0.039037</td>\n",
       "      <td>-0.136777</td>\n",
       "    </tr>\n",
       "    <tr>\n",
       "      <th>2022-06-14</th>\n",
       "      <td>132.759995</td>\n",
       "      <td>0.006673</td>\n",
       "      <td>-0.122016</td>\n",
       "      <td>131.880005</td>\n",
       "      <td>0.006650</td>\n",
       "      <td>0.006650</td>\n",
       "      <td>-0.130127</td>\n",
       "    </tr>\n",
       "    <tr>\n",
       "      <th>2022-06-15</th>\n",
       "      <td>135.429993</td>\n",
       "      <td>0.020111</td>\n",
       "      <td>-0.104358</td>\n",
       "      <td>132.759995</td>\n",
       "      <td>0.019912</td>\n",
       "      <td>0.019912</td>\n",
       "      <td>-0.110215</td>\n",
       "    </tr>\n",
       "    <tr>\n",
       "      <th>2022-06-16</th>\n",
       "      <td>130.059998</td>\n",
       "      <td>-0.039651</td>\n",
       "      <td>-0.139872</td>\n",
       "      <td>135.429993</td>\n",
       "      <td>-0.040459</td>\n",
       "      <td>-0.040459</td>\n",
       "      <td>-0.150674</td>\n",
       "    </tr>\n",
       "    <tr>\n",
       "      <th>2022-06-17</th>\n",
       "      <td>131.559998</td>\n",
       "      <td>0.011533</td>\n",
       "      <td>-0.129952</td>\n",
       "      <td>130.059998</td>\n",
       "      <td>0.011467</td>\n",
       "      <td>0.011467</td>\n",
       "      <td>-0.139207</td>\n",
       "    </tr>\n",
       "    <tr>\n",
       "      <th>2022-06-21</th>\n",
       "      <td>135.869995</td>\n",
       "      <td>0.032761</td>\n",
       "      <td>-0.101448</td>\n",
       "      <td>131.559998</td>\n",
       "      <td>0.032236</td>\n",
       "      <td>0.032236</td>\n",
       "      <td>-0.106971</td>\n",
       "    </tr>\n",
       "    <tr>\n",
       "      <th>2022-06-22</th>\n",
       "      <td>135.350006</td>\n",
       "      <td>-0.003827</td>\n",
       "      <td>-0.104887</td>\n",
       "      <td>135.869995</td>\n",
       "      <td>-0.003834</td>\n",
       "      <td>-0.003834</td>\n",
       "      <td>-0.110806</td>\n",
       "    </tr>\n",
       "    <tr>\n",
       "      <th>2022-06-23</th>\n",
       "      <td>138.270004</td>\n",
       "      <td>0.021574</td>\n",
       "      <td>-0.085576</td>\n",
       "      <td>135.350006</td>\n",
       "      <td>0.021344</td>\n",
       "      <td>0.021344</td>\n",
       "      <td>-0.089461</td>\n",
       "    </tr>\n",
       "    <tr>\n",
       "      <th>2022-06-24</th>\n",
       "      <td>141.660004</td>\n",
       "      <td>0.024517</td>\n",
       "      <td>-0.063157</td>\n",
       "      <td>138.270004</td>\n",
       "      <td>0.024222</td>\n",
       "      <td>0.024222</td>\n",
       "      <td>-0.065240</td>\n",
       "    </tr>\n",
       "    <tr>\n",
       "      <th>2022-06-27</th>\n",
       "      <td>141.660004</td>\n",
       "      <td>0.000000</td>\n",
       "      <td>-0.063157</td>\n",
       "      <td>141.660004</td>\n",
       "      <td>0.000000</td>\n",
       "      <td>0.000000</td>\n",
       "      <td>-0.065240</td>\n",
       "    </tr>\n",
       "    <tr>\n",
       "      <th>2022-06-28</th>\n",
       "      <td>137.440002</td>\n",
       "      <td>-0.029790</td>\n",
       "      <td>-0.091065</td>\n",
       "      <td>141.660004</td>\n",
       "      <td>-0.030242</td>\n",
       "      <td>-0.030242</td>\n",
       "      <td>-0.095482</td>\n",
       "    </tr>\n",
       "    <tr>\n",
       "      <th>2022-06-29</th>\n",
       "      <td>139.229996</td>\n",
       "      <td>0.013024</td>\n",
       "      <td>-0.079228</td>\n",
       "      <td>137.440002</td>\n",
       "      <td>0.012940</td>\n",
       "      <td>0.012940</td>\n",
       "      <td>-0.082542</td>\n",
       "    </tr>\n",
       "  </tbody>\n",
       "</table>\n",
       "</div>"
      ],
      "text/plain": [
       "                 Close    return  Cum Return  prev_Close  Log Return  \\\n",
       "Date                                                                   \n",
       "2022-06-02  151.210007       NaN         NaN         NaN         NaN   \n",
       "2022-06-03  145.380005 -0.038556   -0.038556  151.210007   -0.039319   \n",
       "2022-06-06  146.139999  0.005228   -0.033530  145.380005    0.005214   \n",
       "2022-06-07  148.710007  0.017586   -0.016533  146.139999    0.017433   \n",
       "2022-06-08  147.960007 -0.005043   -0.021493  148.710007   -0.005056   \n",
       "2022-06-09  142.639999 -0.035956   -0.056676  147.960007   -0.036618   \n",
       "2022-06-10  137.130005 -0.038629   -0.093116  142.639999   -0.039395   \n",
       "2022-06-13  131.880005 -0.038285   -0.127835  137.130005   -0.039037   \n",
       "2022-06-14  132.759995  0.006673   -0.122016  131.880005    0.006650   \n",
       "2022-06-15  135.429993  0.020111   -0.104358  132.759995    0.019912   \n",
       "2022-06-16  130.059998 -0.039651   -0.139872  135.429993   -0.040459   \n",
       "2022-06-17  131.559998  0.011533   -0.129952  130.059998    0.011467   \n",
       "2022-06-21  135.869995  0.032761   -0.101448  131.559998    0.032236   \n",
       "2022-06-22  135.350006 -0.003827   -0.104887  135.869995   -0.003834   \n",
       "2022-06-23  138.270004  0.021574   -0.085576  135.350006    0.021344   \n",
       "2022-06-24  141.660004  0.024517   -0.063157  138.270004    0.024222   \n",
       "2022-06-27  141.660004  0.000000   -0.063157  141.660004    0.000000   \n",
       "2022-06-28  137.440002 -0.029790   -0.091065  141.660004   -0.030242   \n",
       "2022-06-29  139.229996  0.013024   -0.079228  137.440002    0.012940   \n",
       "\n",
       "            LogReturn2  Cum logReturn  \n",
       "Date                                   \n",
       "2022-06-02         NaN            NaN  \n",
       "2022-06-03   -0.039319      -0.039319  \n",
       "2022-06-06    0.005214      -0.034105  \n",
       "2022-06-07    0.017433      -0.016671  \n",
       "2022-06-08   -0.005056      -0.021728  \n",
       "2022-06-09   -0.036618      -0.058346  \n",
       "2022-06-10   -0.039395      -0.097740  \n",
       "2022-06-13   -0.039037      -0.136777  \n",
       "2022-06-14    0.006650      -0.130127  \n",
       "2022-06-15    0.019912      -0.110215  \n",
       "2022-06-16   -0.040459      -0.150674  \n",
       "2022-06-17    0.011467      -0.139207  \n",
       "2022-06-21    0.032236      -0.106971  \n",
       "2022-06-22   -0.003834      -0.110806  \n",
       "2022-06-23    0.021344      -0.089461  \n",
       "2022-06-24    0.024222      -0.065240  \n",
       "2022-06-27    0.000000      -0.065240  \n",
       "2022-06-28   -0.030242      -0.095482  \n",
       "2022-06-29    0.012940      -0.082542  "
      ]
     },
     "execution_count": 45,
     "metadata": {},
     "output_type": "execute_result"
    }
   ],
   "source": [
    "df['Cum logReturn'] = df['LogReturn2'].cumsum()\n",
    "df"
   ]
  },
  {
   "cell_type": "code",
   "execution_count": 46,
   "metadata": {},
   "outputs": [
    {
     "data": {
      "text/plain": [
       "-0.08254243222605803"
      ]
     },
     "execution_count": 46,
     "metadata": {},
     "output_type": "execute_result"
    }
   ],
   "source": [
    "np.log(df['Close'][-1] / df['Close'][0])"
   ]
  },
  {
   "cell_type": "markdown",
   "metadata": {},
   "source": [
    "- 누적 로그 수익률\n",
    "\n",
    "$$1 + r = \\log{\\frac{p_t}{p_0}}$$ \n",
    "\n",
    "- 로그 수익률: 복리로 반영  \n",
    "- 단순 수익률 : 단리로 반영"
   ]
  },
  {
   "cell_type": "markdown",
   "metadata": {},
   "source": [
    "## 연습 문제\n",
    "\n",
    "1) 1,000,000 원을 수익률 10%로 10년, 20년, 30년 투자할 때 원금+수익 금액은 ?"
   ]
  },
  {
   "cell_type": "code",
   "execution_count": 51,
   "metadata": {},
   "outputs": [
    {
     "name": "stdout",
     "output_type": "stream",
     "text": [
      "2,593,742\n",
      "6,727,500\n",
      "17,449,402\n"
     ]
    }
   ],
   "source": [
    "print(\"{:,.0f}\".format(1_000_000 * (1 + 0.1)**10))\n",
    "print(\"{:,.0f}\".format(1_000_000 * (1 + 0.1)**20))\n",
    "print(\"{:,.0f}\".format(1_000_000 * (1 + 0.1)**30))"
   ]
  },
  {
   "cell_type": "markdown",
   "metadata": {},
   "source": [
    "2) 10,000 원을 10 년간 투자했는데 100,000 이 되었다. 누적 수익률과 CAGR 은  ?"
   ]
  },
  {
   "cell_type": "code",
   "execution_count": 53,
   "metadata": {},
   "outputs": [
    {
     "data": {
      "text/plain": [
       "9.0"
      ]
     },
     "execution_count": 53,
     "metadata": {},
     "output_type": "execute_result"
    }
   ],
   "source": [
    "# 누적 수익률\n",
    "(100_000 / 10_000) - 1"
   ]
  },
  {
   "cell_type": "code",
   "execution_count": 54,
   "metadata": {},
   "outputs": [
    {
     "data": {
      "text/plain": [
       "0.2589254117941673"
      ]
     },
     "execution_count": 54,
     "metadata": {},
     "output_type": "execute_result"
    }
   ],
   "source": [
    "# CAGR\n",
    "(100_000 / 10_000) ** (1 / 10) - 1"
   ]
  },
  {
   "cell_type": "markdown",
   "metadata": {},
   "source": [
    "3) 애플 주식이 100불에서 10년 뒤 300 불이 되었다면 누적수익률과 CAGR 은 ?"
   ]
  },
  {
   "cell_type": "code",
   "execution_count": 57,
   "metadata": {},
   "outputs": [
    {
     "data": {
      "text/plain": [
       "2.0"
      ]
     },
     "execution_count": 57,
     "metadata": {},
     "output_type": "execute_result"
    }
   ],
   "source": [
    "# 누적 수익률\n",
    "(300 / 100) - 1"
   ]
  },
  {
   "cell_type": "code",
   "execution_count": 58,
   "metadata": {},
   "outputs": [
    {
     "data": {
      "text/plain": [
       "0.11612317403390437"
      ]
     },
     "execution_count": 58,
     "metadata": {},
     "output_type": "execute_result"
    }
   ],
   "source": [
    "# CAGR\n",
    "(300 / 100) ** (1 / 10) - 1"
   ]
  },
  {
   "cell_type": "markdown",
   "metadata": {},
   "source": [
    "## 72의 법칙\n",
    "\n",
    "72의 법칙(\"Rule of 72\")은 복리 투자의 성장 시간을 대략적으로 추정하기 위한 수학적 방법입니다. 이 법칙은 원금이 복리로 얼마나 빨리 두 배로 늘어날지를 대략적으로 계산하는데 사용됩니다.  \n",
    "이 법칙은 다음과 같이 사용됩니다: 투자의 연간 복리 수익률을 72로 나누면, 그 결과는 투자금이 두 배가 되는데 필요한 대략적인 년수를 나타냅니다.  \n",
    "예를 들어, 연간 복리 이자율이 6%인 경우, 투자금이 두 배가 되는 데는 대략 12년(72 / 6)이 걸린다는 것을 알 수 있습니다.\n",
    "\n",
    "원금이 2 배가 되는데 걸리는 시간 = 72/CAGR  \n",
    "\n",
    "ex) 10_000 원을 CAGR 10% 로 운용하면 72/10 = 7.2 년 후 원금이 2 배가 된다."
   ]
  },
  {
   "cell_type": "markdown",
   "metadata": {},
   "source": [
    "CAGR 20% 인 경우 "
   ]
  },
  {
   "cell_type": "code",
   "execution_count": 59,
   "metadata": {},
   "outputs": [
    {
     "data": {
      "text/plain": [
       "3.6"
      ]
     },
     "execution_count": 59,
     "metadata": {},
     "output_type": "execute_result"
    }
   ],
   "source": [
    "72 / 20"
   ]
  },
  {
   "cell_type": "markdown",
   "metadata": {},
   "source": [
    "CAGR 30% 인 경우 "
   ]
  },
  {
   "cell_type": "code",
   "execution_count": 61,
   "metadata": {},
   "outputs": [
    {
     "data": {
      "text/plain": [
       "2.4"
      ]
     },
     "execution_count": 61,
     "metadata": {},
     "output_type": "execute_result"
    }
   ],
   "source": [
    "72 / 30"
   ]
  }
 ],
 "metadata": {
  "kernelspec": {
   "display_name": "Python 3 (ipykernel)",
   "language": "python",
   "name": "python3"
  },
  "language_info": {
   "codemirror_mode": {
    "name": "ipython",
    "version": 3
   },
   "file_extension": ".py",
   "mimetype": "text/x-python",
   "name": "python",
   "nbconvert_exporter": "python",
   "pygments_lexer": "ipython3",
   "version": "3.11.5"
  }
 },
 "nbformat": 4,
 "nbformat_minor": 2
}
