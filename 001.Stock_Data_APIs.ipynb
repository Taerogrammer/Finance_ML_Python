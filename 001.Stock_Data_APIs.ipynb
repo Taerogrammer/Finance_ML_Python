{
 "cells": [
  {
   "cell_type": "markdown",
   "id": "human-franklin",
   "metadata": {},
   "source": [
    "# Free stock market APIs\n",
    "\n",
    "주식 시장 데이터 API는 현재 시장에서 거래되는 금융 자산에 대한 실시간 또는 과거 데이터를 제공합니다. 이러한 API는 일반적으로 공개 주식, ETF, ETN의 가격을 제공합니다.  \n",
    "이러한 데이터는 거래 전략을 수립하고 시장을 모니터링하는 기반이 되는 기술 지표를 생성하는 데 사용할 수 있습니다. "
   ]
  },
  {
   "cell_type": "markdown",
   "id": "afraid-surrey",
   "metadata": {},
   "source": [
    "# 1. 야후 파이낸스\n",
    "문서: [yfinance](https://github.com/ranaroussi/yfinance)  \n",
    "tutorial: https://aroussi.com/post/python-yahoo-finance"
   ]
  },
  {
   "cell_type": "code",
   "execution_count": 1,
   "id": "convinced-elimination",
   "metadata": {},
   "outputs": [],
   "source": [
    "import matplotlib.pyplot as plt"
   ]
  },
  {
   "cell_type": "code",
   "execution_count": 2,
   "id": "dietary-paintball",
   "metadata": {},
   "outputs": [],
   "source": [
    "# !pip install -q yfinance\n",
    "import yfinance as yf"
   ]
  },
  {
   "cell_type": "markdown",
   "id": "46fd7a64",
   "metadata": {},
   "source": [
    "- 미국 주식"
   ]
  },
  {
   "cell_type": "code",
   "execution_count": 3,
   "id": "appreciated-yellow",
   "metadata": {},
   "outputs": [
    {
     "data": {
      "text/html": [
       "<div>\n",
       "<style scoped>\n",
       "    .dataframe tbody tr th:only-of-type {\n",
       "        vertical-align: middle;\n",
       "    }\n",
       "\n",
       "    .dataframe tbody tr th {\n",
       "        vertical-align: top;\n",
       "    }\n",
       "\n",
       "    .dataframe thead th {\n",
       "        text-align: right;\n",
       "    }\n",
       "</style>\n",
       "<table border=\"1\" class=\"dataframe\">\n",
       "  <thead>\n",
       "    <tr style=\"text-align: right;\">\n",
       "      <th></th>\n",
       "      <th>Open</th>\n",
       "      <th>High</th>\n",
       "      <th>Low</th>\n",
       "      <th>Close</th>\n",
       "      <th>Adj Close</th>\n",
       "      <th>Volume</th>\n",
       "    </tr>\n",
       "    <tr>\n",
       "      <th>Date</th>\n",
       "      <th></th>\n",
       "      <th></th>\n",
       "      <th></th>\n",
       "      <th></th>\n",
       "      <th></th>\n",
       "      <th></th>\n",
       "    </tr>\n",
       "  </thead>\n",
       "  <tbody>\n",
       "    <tr>\n",
       "      <th>2022-07-18</th>\n",
       "      <td>150.740005</td>\n",
       "      <td>151.570007</td>\n",
       "      <td>146.699997</td>\n",
       "      <td>147.070007</td>\n",
       "      <td>147.070007</td>\n",
       "      <td>81420900</td>\n",
       "    </tr>\n",
       "    <tr>\n",
       "      <th>2022-07-19</th>\n",
       "      <td>147.919998</td>\n",
       "      <td>151.229996</td>\n",
       "      <td>146.910004</td>\n",
       "      <td>151.000000</td>\n",
       "      <td>151.000000</td>\n",
       "      <td>82982400</td>\n",
       "    </tr>\n",
       "    <tr>\n",
       "      <th>2022-07-20</th>\n",
       "      <td>151.119995</td>\n",
       "      <td>153.720001</td>\n",
       "      <td>150.369995</td>\n",
       "      <td>153.039993</td>\n",
       "      <td>153.039993</td>\n",
       "      <td>64823400</td>\n",
       "    </tr>\n",
       "    <tr>\n",
       "      <th>2022-07-21</th>\n",
       "      <td>154.500000</td>\n",
       "      <td>155.570007</td>\n",
       "      <td>151.940002</td>\n",
       "      <td>155.350006</td>\n",
       "      <td>155.350006</td>\n",
       "      <td>65086600</td>\n",
       "    </tr>\n",
       "    <tr>\n",
       "      <th>2022-07-22</th>\n",
       "      <td>155.389999</td>\n",
       "      <td>156.279999</td>\n",
       "      <td>153.410004</td>\n",
       "      <td>154.089996</td>\n",
       "      <td>154.089996</td>\n",
       "      <td>66625400</td>\n",
       "    </tr>\n",
       "  </tbody>\n",
       "</table>\n",
       "</div>"
      ],
      "text/plain": [
       "                  Open        High         Low       Close   Adj Close  \\\n",
       "Date                                                                     \n",
       "2022-07-18  150.740005  151.570007  146.699997  147.070007  147.070007   \n",
       "2022-07-19  147.919998  151.229996  146.910004  151.000000  151.000000   \n",
       "2022-07-20  151.119995  153.720001  150.369995  153.039993  153.039993   \n",
       "2022-07-21  154.500000  155.570007  151.940002  155.350006  155.350006   \n",
       "2022-07-22  155.389999  156.279999  153.410004  154.089996  154.089996   \n",
       "\n",
       "              Volume  \n",
       "Date                  \n",
       "2022-07-18  81420900  \n",
       "2022-07-19  82982400  \n",
       "2022-07-20  64823400  \n",
       "2022-07-21  65086600  \n",
       "2022-07-22  66625400  "
      ]
     },
     "execution_count": 3,
     "metadata": {},
     "output_type": "execute_result"
    }
   ],
   "source": [
    "df = yf.download('AAPL', start='2022-01-01', progress=False)\n",
    "df.tail()"
   ]
  },
  {
   "cell_type": "markdown",
   "id": "def04c04",
   "metadata": {},
   "source": [
    "- 한국 주식"
   ]
  },
  {
   "cell_type": "code",
   "execution_count": 4,
   "id": "e0f7f215",
   "metadata": {},
   "outputs": [
    {
     "data": {
      "text/html": [
       "<div>\n",
       "<style scoped>\n",
       "    .dataframe tbody tr th:only-of-type {\n",
       "        vertical-align: middle;\n",
       "    }\n",
       "\n",
       "    .dataframe tbody tr th {\n",
       "        vertical-align: top;\n",
       "    }\n",
       "\n",
       "    .dataframe thead th {\n",
       "        text-align: right;\n",
       "    }\n",
       "</style>\n",
       "<table border=\"1\" class=\"dataframe\">\n",
       "  <thead>\n",
       "    <tr style=\"text-align: right;\">\n",
       "      <th></th>\n",
       "      <th>Open</th>\n",
       "      <th>High</th>\n",
       "      <th>Low</th>\n",
       "      <th>Close</th>\n",
       "      <th>Adj Close</th>\n",
       "      <th>Volume</th>\n",
       "    </tr>\n",
       "    <tr>\n",
       "      <th>Date</th>\n",
       "      <th></th>\n",
       "      <th></th>\n",
       "      <th></th>\n",
       "      <th></th>\n",
       "      <th></th>\n",
       "      <th></th>\n",
       "    </tr>\n",
       "  </thead>\n",
       "  <tbody>\n",
       "    <tr>\n",
       "      <th>2022-07-18</th>\n",
       "      <td>60600.0</td>\n",
       "      <td>62000.0</td>\n",
       "      <td>60500.0</td>\n",
       "      <td>61900.0</td>\n",
       "      <td>61900.0</td>\n",
       "      <td>20832517</td>\n",
       "    </tr>\n",
       "    <tr>\n",
       "      <th>2022-07-19</th>\n",
       "      <td>61400.0</td>\n",
       "      <td>61500.0</td>\n",
       "      <td>60200.0</td>\n",
       "      <td>60900.0</td>\n",
       "      <td>60900.0</td>\n",
       "      <td>15248261</td>\n",
       "    </tr>\n",
       "    <tr>\n",
       "      <th>2022-07-20</th>\n",
       "      <td>61800.0</td>\n",
       "      <td>62100.0</td>\n",
       "      <td>60500.0</td>\n",
       "      <td>60500.0</td>\n",
       "      <td>60500.0</td>\n",
       "      <td>16782238</td>\n",
       "    </tr>\n",
       "    <tr>\n",
       "      <th>2022-07-21</th>\n",
       "      <td>61100.0</td>\n",
       "      <td>61900.0</td>\n",
       "      <td>60700.0</td>\n",
       "      <td>61800.0</td>\n",
       "      <td>61800.0</td>\n",
       "      <td>12291374</td>\n",
       "    </tr>\n",
       "    <tr>\n",
       "      <th>2022-07-22</th>\n",
       "      <td>61800.0</td>\n",
       "      <td>62200.0</td>\n",
       "      <td>61200.0</td>\n",
       "      <td>61300.0</td>\n",
       "      <td>61300.0</td>\n",
       "      <td>10261310</td>\n",
       "    </tr>\n",
       "  </tbody>\n",
       "</table>\n",
       "</div>"
      ],
      "text/plain": [
       "               Open     High      Low    Close  Adj Close    Volume\n",
       "Date                                                               \n",
       "2022-07-18  60600.0  62000.0  60500.0  61900.0    61900.0  20832517\n",
       "2022-07-19  61400.0  61500.0  60200.0  60900.0    60900.0  15248261\n",
       "2022-07-20  61800.0  62100.0  60500.0  60500.0    60500.0  16782238\n",
       "2022-07-21  61100.0  61900.0  60700.0  61800.0    61800.0  12291374\n",
       "2022-07-22  61800.0  62200.0  61200.0  61300.0    61300.0  10261310"
      ]
     },
     "execution_count": 4,
     "metadata": {},
     "output_type": "execute_result"
    }
   ],
   "source": [
    "df = yf.download('005930.KS', start='2022-01-01', progress=False) #삼성전자\n",
    "df.tail()"
   ]
  },
  {
   "cell_type": "markdown",
   "id": "functioning-garlic",
   "metadata": {},
   "source": [
    "# 2. Pandas data_reader & FinanceDataReader\n",
    "\n",
    "pandas-datareader 는 잘 구성된 시계열 데이터 수집 라이브러리로 사용이 간편하고 다양한 시계열 데이터를 수집할 수 있다는 장점이 있다. 하지만, 거래소별(KRX, NASDAQ, NYSE 등) 전체 종목 코드(ticker symbol)를 가져오는 기능이 없으며, 야후 파이낸스가 더 이상지원되지 않고(deprecated), 구글 파이낸스는 UNSTABLE_WARNING + RemoteDataError 를 낸다.\n",
    "\n",
    "FinanceDataReader는 pandas-datareader 를 대체하기 보다 보완하기 위한 목적으로 만들어졌다. 주요한 기능은 다음과 같다.\n",
    "\n",
    "- 종목 코드  \n",
    "거래소별 전체 종목코드: KRX (KOSPI, KODAQ, KONEX), NASDAQ, NYSE, AMEX, S&P 500  \n",
    "\n",
    "\n",
    "- 가격 데이터  \n",
    "해외주식 가격 데이터: AAPL(애플), AMZN(아마존), GOOG(구글) 등  \n",
    "국내주식 가격 데이터: 005930(삼성전자), 091990(셀트리온헬스케어) 등  \n",
    "각종 지수: KS11(코스피지수), KQ11(코스닥지수), DJI(다우지수), IXIC(나스닥 지수), US500(S&P 5000)  \n",
    "환율 데이터: USD/KRX (원달러 환율), USD/EUR(달러당 유로화 환율), CNY/KRW: 위엔화 원화 환율  \n",
    "암호화폐 가격: BTC/USD (비트코인 달러 가격, Bitfinex), BTC/KRW (비트코인 원화 가격, 빗썸)  "
   ]
  },
  {
   "cell_type": "code",
   "execution_count": 5,
   "id": "71ff132d",
   "metadata": {},
   "outputs": [],
   "source": [
    "#!pip install update finance-datareader"
   ]
  },
  {
   "cell_type": "code",
   "execution_count": 6,
   "id": "arranged-convertible",
   "metadata": {},
   "outputs": [],
   "source": [
    "import pandas_datareader as data_reader\n",
    "import FinanceDataReader as fdr\n",
    "import datetime\n",
    "\n",
    "start = datetime.datetime(2020, 2, 19)\n",
    "end = datetime.datetime(2022, 3, 4)"
   ]
  },
  {
   "cell_type": "markdown",
   "id": "81bcba20",
   "metadata": {},
   "source": [
    "- 미국 주식"
   ]
  },
  {
   "cell_type": "code",
   "execution_count": 7,
   "id": "6ff45938",
   "metadata": {},
   "outputs": [
    {
     "data": {
      "text/html": [
       "<div>\n",
       "<style scoped>\n",
       "    .dataframe tbody tr th:only-of-type {\n",
       "        vertical-align: middle;\n",
       "    }\n",
       "\n",
       "    .dataframe tbody tr th {\n",
       "        vertical-align: top;\n",
       "    }\n",
       "\n",
       "    .dataframe thead th {\n",
       "        text-align: right;\n",
       "    }\n",
       "</style>\n",
       "<table border=\"1\" class=\"dataframe\">\n",
       "  <thead>\n",
       "    <tr style=\"text-align: right;\">\n",
       "      <th></th>\n",
       "      <th>High</th>\n",
       "      <th>Low</th>\n",
       "      <th>Open</th>\n",
       "      <th>Close</th>\n",
       "      <th>Volume</th>\n",
       "      <th>Adj Close</th>\n",
       "    </tr>\n",
       "    <tr>\n",
       "      <th>Date</th>\n",
       "      <th></th>\n",
       "      <th></th>\n",
       "      <th></th>\n",
       "      <th></th>\n",
       "      <th></th>\n",
       "      <th></th>\n",
       "    </tr>\n",
       "  </thead>\n",
       "  <tbody>\n",
       "    <tr>\n",
       "      <th>2020-02-18</th>\n",
       "      <td>79.937500</td>\n",
       "      <td>78.652496</td>\n",
       "      <td>78.839996</td>\n",
       "      <td>79.750000</td>\n",
       "      <td>152531200.0</td>\n",
       "      <td>78.553581</td>\n",
       "    </tr>\n",
       "    <tr>\n",
       "      <th>2020-02-19</th>\n",
       "      <td>81.142502</td>\n",
       "      <td>80.000000</td>\n",
       "      <td>80.000000</td>\n",
       "      <td>80.904999</td>\n",
       "      <td>93984000.0</td>\n",
       "      <td>79.691261</td>\n",
       "    </tr>\n",
       "    <tr>\n",
       "      <th>2020-02-20</th>\n",
       "      <td>81.162498</td>\n",
       "      <td>79.552498</td>\n",
       "      <td>80.657501</td>\n",
       "      <td>80.074997</td>\n",
       "      <td>100566000.0</td>\n",
       "      <td>78.873711</td>\n",
       "    </tr>\n",
       "    <tr>\n",
       "      <th>2020-02-21</th>\n",
       "      <td>80.112503</td>\n",
       "      <td>77.625000</td>\n",
       "      <td>79.654999</td>\n",
       "      <td>78.262497</td>\n",
       "      <td>129554000.0</td>\n",
       "      <td>77.088387</td>\n",
       "    </tr>\n",
       "    <tr>\n",
       "      <th>2020-02-24</th>\n",
       "      <td>76.044998</td>\n",
       "      <td>72.307503</td>\n",
       "      <td>74.315002</td>\n",
       "      <td>74.544998</td>\n",
       "      <td>222195200.0</td>\n",
       "      <td>73.426666</td>\n",
       "    </tr>\n",
       "  </tbody>\n",
       "</table>\n",
       "</div>"
      ],
      "text/plain": [
       "                 High        Low       Open      Close       Volume  Adj Close\n",
       "Date                                                                          \n",
       "2020-02-18  79.937500  78.652496  78.839996  79.750000  152531200.0  78.553581\n",
       "2020-02-19  81.142502  80.000000  80.000000  80.904999   93984000.0  79.691261\n",
       "2020-02-20  81.162498  79.552498  80.657501  80.074997  100566000.0  78.873711\n",
       "2020-02-21  80.112503  77.625000  79.654999  78.262497  129554000.0  77.088387\n",
       "2020-02-24  76.044998  72.307503  74.315002  74.544998  222195200.0  73.426666"
      ]
     },
     "execution_count": 7,
     "metadata": {},
     "output_type": "execute_result"
    }
   ],
   "source": [
    "aapl = data_reader.DataReader(\"AAPL\", data_source=\"yahoo\", start=start, end=end)\n",
    "aapl.head()"
   ]
  },
  {
   "cell_type": "markdown",
   "id": "4c68c086",
   "metadata": {},
   "source": [
    "- 한국 주식"
   ]
  },
  {
   "cell_type": "code",
   "execution_count": 8,
   "id": "be0a33d8",
   "metadata": {},
   "outputs": [
    {
     "data": {
      "text/html": [
       "<div>\n",
       "<style scoped>\n",
       "    .dataframe tbody tr th:only-of-type {\n",
       "        vertical-align: middle;\n",
       "    }\n",
       "\n",
       "    .dataframe tbody tr th {\n",
       "        vertical-align: top;\n",
       "    }\n",
       "\n",
       "    .dataframe thead th {\n",
       "        text-align: right;\n",
       "    }\n",
       "</style>\n",
       "<table border=\"1\" class=\"dataframe\">\n",
       "  <thead>\n",
       "    <tr style=\"text-align: right;\">\n",
       "      <th></th>\n",
       "      <th>High</th>\n",
       "      <th>Low</th>\n",
       "      <th>Open</th>\n",
       "      <th>Close</th>\n",
       "      <th>Volume</th>\n",
       "      <th>Adj Close</th>\n",
       "    </tr>\n",
       "    <tr>\n",
       "      <th>Date</th>\n",
       "      <th></th>\n",
       "      <th></th>\n",
       "      <th></th>\n",
       "      <th></th>\n",
       "      <th></th>\n",
       "      <th></th>\n",
       "    </tr>\n",
       "  </thead>\n",
       "  <tbody>\n",
       "    <tr>\n",
       "      <th>2020-02-19</th>\n",
       "      <td>60400.0</td>\n",
       "      <td>59400.0</td>\n",
       "      <td>59800.0</td>\n",
       "      <td>60200.0</td>\n",
       "      <td>12951496.0</td>\n",
       "      <td>55885.941406</td>\n",
       "    </tr>\n",
       "    <tr>\n",
       "      <th>2020-02-20</th>\n",
       "      <td>61300.0</td>\n",
       "      <td>59600.0</td>\n",
       "      <td>60700.0</td>\n",
       "      <td>60000.0</td>\n",
       "      <td>14591924.0</td>\n",
       "      <td>55700.273438</td>\n",
       "    </tr>\n",
       "    <tr>\n",
       "      <th>2020-02-21</th>\n",
       "      <td>59800.0</td>\n",
       "      <td>58500.0</td>\n",
       "      <td>58800.0</td>\n",
       "      <td>59200.0</td>\n",
       "      <td>13777393.0</td>\n",
       "      <td>54957.605469</td>\n",
       "    </tr>\n",
       "    <tr>\n",
       "      <th>2020-02-24</th>\n",
       "      <td>58100.0</td>\n",
       "      <td>56800.0</td>\n",
       "      <td>57400.0</td>\n",
       "      <td>56800.0</td>\n",
       "      <td>25627537.0</td>\n",
       "      <td>52729.601562</td>\n",
       "    </tr>\n",
       "    <tr>\n",
       "      <th>2020-02-25</th>\n",
       "      <td>58000.0</td>\n",
       "      <td>56200.0</td>\n",
       "      <td>56200.0</td>\n",
       "      <td>57900.0</td>\n",
       "      <td>23885408.0</td>\n",
       "      <td>53750.769531</td>\n",
       "    </tr>\n",
       "  </tbody>\n",
       "</table>\n",
       "</div>"
      ],
      "text/plain": [
       "               High      Low     Open    Close      Volume     Adj Close\n",
       "Date                                                                    \n",
       "2020-02-19  60400.0  59400.0  59800.0  60200.0  12951496.0  55885.941406\n",
       "2020-02-20  61300.0  59600.0  60700.0  60000.0  14591924.0  55700.273438\n",
       "2020-02-21  59800.0  58500.0  58800.0  59200.0  13777393.0  54957.605469\n",
       "2020-02-24  58100.0  56800.0  57400.0  56800.0  25627537.0  52729.601562\n",
       "2020-02-25  58000.0  56200.0  56200.0  57900.0  23885408.0  53750.769531"
      ]
     },
     "execution_count": 8,
     "metadata": {},
     "output_type": "execute_result"
    }
   ],
   "source": [
    "samsung = data_reader.DataReader('005930.KS', data_source=\"yahoo\", start=start, end=end)\n",
    "samsung.head()"
   ]
  },
  {
   "cell_type": "code",
   "execution_count": 9,
   "id": "0dd1ba08",
   "metadata": {},
   "outputs": [
    {
     "data": {
      "text/html": [
       "<div>\n",
       "<style scoped>\n",
       "    .dataframe tbody tr th:only-of-type {\n",
       "        vertical-align: middle;\n",
       "    }\n",
       "\n",
       "    .dataframe tbody tr th {\n",
       "        vertical-align: top;\n",
       "    }\n",
       "\n",
       "    .dataframe thead th {\n",
       "        text-align: right;\n",
       "    }\n",
       "</style>\n",
       "<table border=\"1\" class=\"dataframe\">\n",
       "  <thead>\n",
       "    <tr style=\"text-align: right;\">\n",
       "      <th></th>\n",
       "      <th>Open</th>\n",
       "      <th>High</th>\n",
       "      <th>Low</th>\n",
       "      <th>Close</th>\n",
       "      <th>Volume</th>\n",
       "      <th>Change</th>\n",
       "    </tr>\n",
       "    <tr>\n",
       "      <th>Date</th>\n",
       "      <th></th>\n",
       "      <th></th>\n",
       "      <th></th>\n",
       "      <th></th>\n",
       "      <th></th>\n",
       "      <th></th>\n",
       "    </tr>\n",
       "  </thead>\n",
       "  <tbody>\n",
       "    <tr>\n",
       "      <th>2020-02-19</th>\n",
       "      <td>179269</td>\n",
       "      <td>180233</td>\n",
       "      <td>173487</td>\n",
       "      <td>174934</td>\n",
       "      <td>766594</td>\n",
       "      <td>-0.016263</td>\n",
       "    </tr>\n",
       "    <tr>\n",
       "      <th>2020-02-20</th>\n",
       "      <td>175414</td>\n",
       "      <td>175896</td>\n",
       "      <td>170114</td>\n",
       "      <td>172525</td>\n",
       "      <td>781485</td>\n",
       "      <td>-0.013771</td>\n",
       "    </tr>\n",
       "    <tr>\n",
       "      <th>2020-02-21</th>\n",
       "      <td>170114</td>\n",
       "      <td>174450</td>\n",
       "      <td>169632</td>\n",
       "      <td>170597</td>\n",
       "      <td>465625</td>\n",
       "      <td>-0.011175</td>\n",
       "    </tr>\n",
       "    <tr>\n",
       "      <th>2020-02-24</th>\n",
       "      <td>166258</td>\n",
       "      <td>168185</td>\n",
       "      <td>162885</td>\n",
       "      <td>162887</td>\n",
       "      <td>797522</td>\n",
       "      <td>-0.045194</td>\n",
       "    </tr>\n",
       "    <tr>\n",
       "      <th>2020-02-25</th>\n",
       "      <td>162885</td>\n",
       "      <td>166740</td>\n",
       "      <td>162403</td>\n",
       "      <td>166260</td>\n",
       "      <td>590282</td>\n",
       "      <td>0.020708</td>\n",
       "    </tr>\n",
       "  </tbody>\n",
       "</table>\n",
       "</div>"
      ],
      "text/plain": [
       "              Open    High     Low   Close  Volume    Change\n",
       "Date                                                        \n",
       "2020-02-19  179269  180233  173487  174934  766594 -0.016263\n",
       "2020-02-20  175414  175896  170114  172525  781485 -0.013771\n",
       "2020-02-21  170114  174450  169632  170597  465625 -0.011175\n",
       "2020-02-24  166258  168185  162885  162887  797522 -0.045194\n",
       "2020-02-25  162885  166740  162403  166260  590282  0.020708"
      ]
     },
     "execution_count": 9,
     "metadata": {},
     "output_type": "execute_result"
    }
   ],
   "source": [
    "stock = fdr.DataReader('068270', start)  #셀트리온\n",
    "stock.head()"
   ]
  },
  {
   "cell_type": "code",
   "execution_count": 10,
   "id": "42400a82",
   "metadata": {},
   "outputs": [
    {
     "data": {
      "text/plain": [
       "<AxesSubplot:xlabel='Date'>"
      ]
     },
     "execution_count": 10,
     "metadata": {},
     "output_type": "execute_result"
    },
    {
     "data": {
      "image/png": "[encoded data removed]",
      "text/plain": [
       "<Figure size 432x288 with 1 Axes>"
      ]
     },
     "metadata": {
      "needs_background": "light"
     },
     "output_type": "display_data"
    }
   ],
   "source": [
    "stock['Close'].plot()"
   ]
  },
  {
   "cell_type": "markdown",
   "id": "848255de",
   "metadata": {},
   "source": [
    "- 원-달러 환율"
   ]
  },
  {
   "cell_type": "code",
   "execution_count": 11,
   "id": "conditional-surgery",
   "metadata": {},
   "outputs": [
    {
     "data": {
      "text/html": [
       "<div>\n",
       "<style scoped>\n",
       "    .dataframe tbody tr th:only-of-type {\n",
       "        vertical-align: middle;\n",
       "    }\n",
       "\n",
       "    .dataframe tbody tr th {\n",
       "        vertical-align: top;\n",
       "    }\n",
       "\n",
       "    .dataframe thead th {\n",
       "        text-align: right;\n",
       "    }\n",
       "</style>\n",
       "<table border=\"1\" class=\"dataframe\">\n",
       "  <thead>\n",
       "    <tr style=\"text-align: right;\">\n",
       "      <th></th>\n",
       "      <th>DEXKOUS</th>\n",
       "    </tr>\n",
       "    <tr>\n",
       "      <th>DATE</th>\n",
       "      <th></th>\n",
       "    </tr>\n",
       "  </thead>\n",
       "  <tbody>\n",
       "    <tr>\n",
       "      <th>2022-01-03</th>\n",
       "      <td>1191.39</td>\n",
       "    </tr>\n",
       "    <tr>\n",
       "      <th>2022-01-04</th>\n",
       "      <td>1193.77</td>\n",
       "    </tr>\n",
       "    <tr>\n",
       "      <th>2022-01-05</th>\n",
       "      <td>1196.38</td>\n",
       "    </tr>\n",
       "    <tr>\n",
       "      <th>2022-01-06</th>\n",
       "      <td>1205.02</td>\n",
       "    </tr>\n",
       "    <tr>\n",
       "      <th>2022-01-07</th>\n",
       "      <td>1200.78</td>\n",
       "    </tr>\n",
       "  </tbody>\n",
       "</table>\n",
       "</div>"
      ],
      "text/plain": [
       "            DEXKOUS\n",
       "DATE               \n",
       "2022-01-03  1191.39\n",
       "2022-01-04  1193.77\n",
       "2022-01-05  1196.38\n",
       "2022-01-06  1205.02\n",
       "2022-01-07  1200.78"
      ]
     },
     "execution_count": 11,
     "metadata": {},
     "output_type": "execute_result"
    }
   ],
   "source": [
    "df = data_reader.DataReader('DEXKOUS', 'fred', '2022-01-01')\n",
    "df.head()"
   ]
  },
  {
   "cell_type": "code",
   "execution_count": 14,
   "id": "56a62fce",
   "metadata": {},
   "outputs": [
    {
     "data": {
      "text/plain": [
       "<AxesSubplot:xlabel='DATE'>"
      ]
     },
     "execution_count": 14,
     "metadata": {},
     "output_type": "execute_result"
    },
    {
     "data": {
      "image/png": "[encoded data removed]",
      "text/plain": [
       "<Figure size 432x288 with 1 Axes>"
      ]
     },
     "metadata": {
      "needs_background": "light"
     },
     "output_type": "display_data"
    }
   ],
   "source": [
    "df.plot()"
   ]
  },
  {
   "cell_type": "code",
   "execution_count": null,
   "id": "5705e081",
   "metadata": {},
   "outputs": [],
   "source": []
  }
 ],
 "metadata": {
  "kernelspec": {
   "display_name": "Python 3 (ipykernel)",
   "language": "python",
   "name": "python3"
  },
  "language_info": {
   "codemirror_mode": {
    "name": "ipython",
    "version": 3
   },
   "file_extension": ".py",
   "mimetype": "text/x-python",
   "name": "python",
   "nbconvert_exporter": "python",
   "pygments_lexer": "ipython3",
   "version": "3.8.13"
  }
 },
 "nbformat": 4,
 "nbformat_minor": 5
}
